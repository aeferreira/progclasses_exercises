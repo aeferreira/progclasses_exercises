{
 "cells": [
  {
   "cell_type": "markdown",
   "metadata": {},
   "source": [
    "# Exercícios revisão"
   ]
  },
  {
   "cell_type": "markdown",
   "metadata": {},
   "source": [
    "## Requisitos\n",
    "\n",
    "Para estes exercícios são necessários os seguintes ficheiros:\n",
    "\n",
    "- Estrutura **2P18** do Protein Data Bank, no formato _pdb_ num ficheiro com o nome `2p18.pdb`.\n",
    "- Proteoma do organismo _H. influenzae_ no formato FASTA num ficheiro com o nome `uniprot_proteome_h_influenzae.fasta`.\n",
    "- Proteoma do organismo _H. influenzae_ no formato _UniProt text_ num ficheiro com o nome `uniprot_proteome_h_influenzae.txt`.\n",
    "\n",
    "Links:\n",
    "\n",
    "[Proteoma UP000000579 (H. influenzae)](https://www.uniprot.org/proteomes/UP000000579)\n",
    "\n",
    "[Estrutura 2P18](https://www.rcsb.org/structure/2p18)"
   ]
  },
  {
   "cell_type": "markdown",
   "metadata": {},
   "source": [
    "#### 1.\n",
    "\n",
    "Complete as seguintes funções.\n",
    "\n",
    "- Todas elas devem ter um único argumento `seq` que representa uma sequência de um péptido (códigos de uma letra dos aminoácidos) e devem devolver o resultado pedido em cada pergunta.\n",
    "- Todas as funções, para além do cabeçalho, **devem ter apenas uma linha de código: o comando `return` seguido de uma expressão que calcula o resultado**"
   ]
  },
  {
   "cell_type": "code",
   "execution_count": null,
   "metadata": {},
   "outputs": [],
   "source": [
    "# cadeia polipeptídica para teste\n",
    "gre3 = 'MSSLVTLNNGLKMPLVGLGCWKIDKKVCANQIYEAIKLGYRLFDGACDYGNEKEVGEGIR'"
   ]
  },
  {
   "cell_type": "markdown",
   "metadata": {},
   "source": [
    "1.1 A função deve devolver o número de aminoácidos da sequência (**RESOLVIDO**)"
   ]
  },
  {
   "cell_type": "code",
   "execution_count": null,
   "metadata": {},
   "outputs": [],
   "source": [
    "def n_aminoacidos(seq):\n",
    "    return len(seq)"
   ]
  },
  {
   "cell_type": "markdown",
   "metadata": {},
   "source": [
    "1.2 A função deve devolver o número de metioninas na sequência"
   ]
  },
  {
   "cell_type": "code",
   "execution_count": null,
   "metadata": {},
   "outputs": [],
   "source": [
    "def nM(seq):\n",
    "    return pass # substituír o comando pass por uma expressão"
   ]
  },
  {
   "cell_type": "markdown",
   "metadata": {},
   "source": [
    "1.3 A função deve devolver o número de aminoácidos ácidos (D e E) na sequência."
   ]
  },
  {
   "cell_type": "code",
   "execution_count": null,
   "metadata": {},
   "outputs": [],
   "source": [
    "def n_aa_acidos(seq):\n",
    "    return pass # substituír o comando pass por uma expressão"
   ]
  },
  {
   "cell_type": "markdown",
   "metadata": {},
   "source": [
    "1.4 A função deve devolver o comprimento da sequência codificante CDS correspondente à sequência polipeptídica"
   ]
  },
  {
   "cell_type": "code",
   "execution_count": null,
   "metadata": {},
   "outputs": [],
   "source": [
    "def n_CDS(seq):\n",
    "    return pass # substituír o comando pass por uma expressão"
   ]
  },
  {
   "cell_type": "markdown",
   "metadata": {},
   "source": [
    "1.5 A função deve devolver uma string com a sequência apresentada em sentido contrário"
   ]
  },
  {
   "cell_type": "code",
   "execution_count": null,
   "metadata": {},
   "outputs": [],
   "source": [
    "def reverse_seq(seq):\n",
    "    return pass # substituír o comando pass por uma expressão"
   ]
  },
  {
   "cell_type": "markdown",
   "metadata": {},
   "source": [
    "1.6 A função deve devolver uma lista contendo os códigos dos aminoácidos que estão a seguir ao aminoácido Glicina (G)"
   ]
  },
  {
   "cell_type": "code",
   "execution_count": null,
   "metadata": {},
   "outputs": [],
   "source": [
    "def next2G(seq):\n",
    "    return pass # substituír o comando pass por uma expressão"
   ]
  },
  {
   "cell_type": "markdown",
   "metadata": {},
   "source": [
    "1.7 O enzima impossiblase é um protease que atua hidrolisando uma proteína nos locais `GL`, retirando estes dois amino-ácidos dos péptidos resultantes da hidrólise. A função deve devolver uma lista com as sequências dos péptidos resultantes da ação deste enzima."
   ]
  },
  {
   "cell_type": "code",
   "execution_count": null,
   "metadata": {},
   "outputs": [],
   "source": [
    "def peps_impossiblase(seq):\n",
    "    return pass # substituír o comando pass por uma expressão"
   ]
  },
  {
   "cell_type": "markdown",
   "metadata": {},
   "source": [
    "1.8 A função deve devolver a maior distância entre duas glicinas (G) consecutivas. Sugestão: existe a função `max()` que calcula o maior número de uma **lista de números**. (sim, tudo numa única linha!)"
   ]
  },
  {
   "cell_type": "code",
   "execution_count": null,
   "metadata": {},
   "outputs": [],
   "source": [
    "def longest_GG(seq):\n",
    "    return pass # substituír o comando pass por uma expressão"
   ]
  },
  {
   "cell_type": "markdown",
   "metadata": {},
   "source": [
    "1.9 A função deve devolver a sequência com a Metionina de iniciação removida"
   ]
  },
  {
   "cell_type": "code",
   "execution_count": null,
   "metadata": {},
   "outputs": [],
   "source": [
    "def removed_Minit(seq):\n",
    "    return pass # substituír o comando pass por uma expressão"
   ]
  },
  {
   "cell_type": "markdown",
   "metadata": {},
   "source": [
    "1.10 A função deve devolver a sequência do péptido mas apenas até à primeira cisteína (C), exclusivé. Se não houver cisteínas, a função devolve a sequência completa."
   ]
  },
  {
   "cell_type": "code",
   "execution_count": null,
   "metadata": {},
   "outputs": [],
   "source": [
    "def stop_C(seq):\n",
    "    return pass # substituír o comando pass por uma expressão"
   ]
  },
  {
   "cell_type": "markdown",
   "metadata": {},
   "source": [
    "Após escrever todas as funções, para verificar se as funções estão corretas, corra a célula seguinte, que **não** deve dar nenhum erro."
   ]
  },
  {
   "cell_type": "code",
   "execution_count": null,
   "metadata": {},
   "outputs": [],
   "source": [
    "gre3 = 'MSSLVTLNNGLKMPLVGLGCWKIDKKVCANQIYEAIKLGYRLFDGACDYGNEKEVGEGIR'\n",
    "assert n_aminoacidos(gre3) == 60\n",
    "assert nM(gre3) == 2\n",
    "assert n_aa_acidos(gre3) == 7\n",
    "assert n_CDS(gre3) == 183\n",
    "assert reverse_seq(gre3) == 'RIGEGVEKENGYDCAGDFLRYGLKIAEYIQNACVKKDIKWCGLGVLPMKLGNNLTVLSSM'\n",
    "assert next2G(gre3) == ['L', 'L', 'C', 'Y', 'A', 'N', 'E', 'I']\n",
    "assert peps_impossiblase(gre3) == ['MSSLVTLNN', 'KMPLV', 'GCWKIDKKVCANQIYEAIKLGYRLFDGACDYGNEKEVGEGIR']\n",
    "assert longest_GG(gre3) == 20\n",
    "assert removed_Minit(gre3) == 'SSLVTLNNGLKMPLVGLGCWKIDKKVCANQIYEAIKLGYRLFDGACDYGNEKEVGEGIR'\n",
    "assert stop_C(gre3) == 'MSSLVTLNNGLKMPLVGLG'"
   ]
  },
  {
   "cell_type": "markdown",
   "metadata": {},
   "source": [
    "#### 2.\n",
    "\n",
    "Suponha que está disponível num programa o dicionário com o código genético:\n",
    "```\n",
    "gencode = {\n",
    "     'UUU': 'F', 'UUC': 'F', 'UUA': 'L', 'UUG': 'L', 'UCU': 'S',\n",
    "     'UCC': 'S', 'UCA': 'S', 'UCG': 'S', 'UAU': 'Y', 'UAC': 'Y',\n",
    "...\n",
    "...\n",
    "     'GAA': 'E', 'GAG': 'E', 'GGU': 'G', 'GGC': 'G', 'GGA': 'G',\n",
    "     'GGG': 'G', 'UAA': 'STOP', 'UAG': 'STOP', 'UGA': 'STOP'}\n",
    "```\n",
    "\n",
    "Escreva a função  com o cabeçalho \n",
    "  \n",
    "`def degen(gencode):`\n",
    "\n",
    "que recebe como argumento o dicionário gencode e devolve um dicionário com \n",
    "**o nível de degeneração** de cada aminoácido. O nível de degeneração de um aminoácido \n",
    "é o numero de tripletos que codificam para esse aminoácido.\n",
    "\n",
    "Por exemplo, se aplicarmos a função com  `print( degen(gencode) )` obtemos\n",
    "\n",
    "```\n",
    "{'F': 2, 'L': 6, 'S': 6, 'Y': 2, 'C': 2, 'W': 1, 'P': 4, 'H': 2, 'Q': 2, 'R': 6, 'I': 3,\n",
    "'M': 1, 'T': 4, 'N': 2, 'K': 2, 'V': 4, 'A': 4, 'D': 2, 'E': 2, 'G': 4, 'STOP': 3}\n",
    "\n",
    "```\n"
   ]
  },
  {
   "cell_type": "code",
   "execution_count": null,
   "metadata": {},
   "outputs": [],
   "source": [
    "gencode = {\n",
    "     'UUU': 'F', 'UUC': 'F', 'UUA': 'L', 'UUG': 'L', 'UCU': 'S',\n",
    "     'UCC': 'S', 'UCA': 'S', 'UCG': 'S', 'UAU': 'Y', 'UAC': 'Y',\n",
    "     'UGU': 'C', 'UGC': 'C', 'UGG': 'W', 'CUU': 'L', 'CUC': 'L',\n",
    "     'CUA': 'L', 'CUG': 'L', 'CCU': 'P', 'CCC': 'P', 'CCA': 'P',\n",
    "     'CCG': 'P', 'CAU': 'H', 'CAC': 'H', 'CAA': 'Q', 'CAG': 'Q',\n",
    "     'CGU': 'R', 'CGC': 'R', 'CGA': 'R', 'CGG': 'R', 'AUU': 'I',\n",
    "     'AUC': 'I', 'AUA': 'I', 'AUG': 'M', 'ACU': 'T', 'ACC': 'T',\n",
    "     'ACA': 'T', 'ACG': 'T', 'AAU': 'N', 'AAC': 'N', 'AAA': 'K',\n",
    "     'AAG': 'K', 'AGU': 'S', 'AGC': 'S', 'AGA': 'R', 'AGG': 'R',\n",
    "     'GUU': 'V', 'GUC': 'V', 'GUA': 'V', 'GUG': 'V', 'GCU': 'A',\n",
    "     'GCC': 'A', 'GCA': 'A', 'GCG': 'A', 'GAU': 'D', 'GAC': 'D',\n",
    "     'GAA': 'E', 'GAG': 'E', 'GGU': 'G', 'GGC': 'G', 'GGA': 'G',\n",
    "     'GGG': 'G', 'UAA': 'STOP', 'UAG': 'STOP', 'UGA': 'STOP'}\n",
    "\n",
    "def degen(gencode):\n",
    "    d = {}\n",
    "    # COMPLETAR A FUNÇÃO AQUI\n",
    "    return d\n",
    "\n",
    "print(degen(gencode))"
   ]
  },
  {
   "cell_type": "markdown",
   "metadata": {},
   "source": [
    "#### 3.\n",
    "\n",
    "Suponha que a função `degen()` da pergunta 2 está disponível. \n",
    "\n",
    "Escreva uma função com o cabeçalho \n",
    "\n",
    "`def degenseq(seq):` \n",
    "\n",
    "que recebe uma string `seq` com a uma sequência polipeptídica (códigos de 1 letra) \n",
    "e devolve uma **lista de inteiros** com os níveis de degeneração de \n",
    "cada aminoácido da sequência.\n",
    "\n",
    "Por exemplo, se aplicarmos a função com \n",
    "\n",
    "`print( degenseq('AVGGGKGDEM') )`\n",
    "\n",
    "obtemos\n",
    "\n",
    "`[4, 4, 4, 4, 4, 2, 4, 2, 2, 1]`\n"
   ]
  },
  {
   "cell_type": "code",
   "execution_count": null,
   "metadata": {},
   "outputs": [],
   "source": [
    "def degenseq(seq):\n",
    "    # completar a função\n",
    "    pass\n",
    "    # até aqui\n",
    "\n",
    "print(degenseq('AVGGGKGDEM'))"
   ]
  },
  {
   "cell_type": "markdown",
   "metadata": {},
   "source": [
    "#### 4.\n",
    "\n",
    "Escreva uma função com o cabeçalho \n",
    "\n",
    "`def find_CDS(seq):` \n",
    "\n",
    "que recebe uma string `seq` com a uma sequência de nucleótidos.\n",
    "\n",
    "A função deve devolver uma **string** com uma sequência codificante interior à sequência.\n",
    "\n",
    "A sequência codificante deve:\n",
    "\n",
    "- começar pelo codão ATG\n",
    "- terminar num codão stop TAA, TAG ou TGA\n",
    "- ter, pelo menos, 20 codões\n",
    "\n",
    "Se não conseguir encontrar uma sequência codificante, a função deve devolver uma string vazia."
   ]
  },
  {
   "cell_type": "code",
   "execution_count": null,
   "metadata": {},
   "outputs": [],
   "source": [
    "seqtest = 'TCCATTGTCATGGCTGTCTCTAAAAGTTTACGCTTGATCCGTCTACGACTCCCGTGGAAACCCAACCGTCGAAGTCGAATGGTGACAACGCTGTTTTCGCTGGTGAAAACTTCCACCACGGAATGACATTATAACGAAAAGGGTGTTTTC'\n",
    "\n",
    "def find_CDS(seq):\n",
    "    # completar a função\n",
    "    pass\n",
    "    # até aqui\n",
    "\n",
    "    \n",
    "print(find_CDS(seqtest))"
   ]
  },
  {
   "cell_type": "code",
   "execution_count": null,
   "metadata": {},
   "outputs": [],
   "source": [
    "seqtest = 'TCCATTGTCATGGCTGTCTCTAAAAGTTTACGCTTGATCCGTCTACGACTCCCGTGGAAACCCAACCGTCGAAGTCGAATGGTGACAACGCTGTTTTCGCTGGTGAAAACTTCCACCACGGAATGACATTATAACGAAAAGGGTGTTTTC'\n",
    "assert find_CDS(seqtest) == 'ATGGCTGTCTCTAAAAGTTTACGCTTGATCCGTCTACGACTCCCGTGGAAACCCAACCGTCGAAGTCGAATGGTGACAACGCTGTTTTCGCTGGTGAAAACTTCCACCACGGAATGA'"
   ]
  },
  {
   "cell_type": "markdown",
   "metadata": {},
   "source": [
    "#### 5.\n",
    "\n",
    "De seguida apresentam-se algumas linhas **ATOM** do ficheiro PDB 2p18.pdb.\n",
    "\n",
    "```\n",
    "ATOM      1  N   MET A   1      15.111  21.307  72.426  1.00 25.29           N  \n",
    "ATOM      2  CA  MET A   1      16.497  20.745  72.503  1.00 24.74           C  \n",
    "ATOM      3  C   MET A   1      17.410  21.250  71.362  1.00 23.94           C  \n",
    "ATOM      4  O   MET A   1      18.617  20.980  71.364  1.00 24.47           O  \n",
    "ATOM      5  CB  MET A   1      16.440  19.210  72.519  1.00 25.25           C  \n",
    "ATOM      6  N   ARG A   2      16.850  22.001  70.421  1.00 22.89           N  \n",
    "ATOM      7  CA  ARG A   2      17.620  22.532  69.297  1.00 21.96           C  \n",
    "ATOM      8  C   ARG A   2      18.297  23.858  69.651  1.00 21.68           C  \n",
    "ATOM      9  O   ARG A   2      17.644  24.815  70.053  1.00 22.25           O  \n",
    "ATOM     10  CB  ARG A   2      16.734  22.694  68.046  1.00 21.41           C  \n",
    "```\n",
    "\n",
    "Escreva uma função com o cabeçalho\n",
    "\n",
    "`def nCalpha(filename):`\n",
    "\n",
    "que, dado o nome de um ficheiro PDB, abra esse ficheiro, e, por processamento das linhas começadas por ATOM, devolva o **numero de átomos de carbono alfa** (CA) existentes na estrutura       \n"
   ]
  },
  {
   "cell_type": "code",
   "execution_count": null,
   "metadata": {},
   "outputs": [],
   "source": [
    "def nCalpha(filename):\n",
    "    with open(filename) as datafile:\n",
    "        lines = datafile.read().splitlines()\n",
    "    count = 0\n",
    "    # COMPLETAR A FUNÇÃO\n",
    "    return count\n",
    "\n",
    "print(f'A estrutura 2p18 tem {nCalpha(\"2p18.pdb\")} carbonos alfa')"
   ]
  },
  {
   "cell_type": "code",
   "execution_count": null,
   "metadata": {},
   "outputs": [],
   "source": [
    "assert nCalpha(\"2p18.pdb\") == 285"
   ]
  },
  {
   "cell_type": "markdown",
   "metadata": {},
   "source": [
    "#### 6.\n",
    "\n",
    "De seguida apresentam-se algumas linhas **ATOM** do ficheiro PDB 2p18.pdb.\n",
    "\n",
    "```\n",
    "ATOM      1  N   MET A   1      15.111  21.307  72.426  1.00 25.29           N  \n",
    "ATOM      2  CA  MET A   1      16.497  20.745  72.503  1.00 24.74           C  \n",
    "ATOM      3  C   MET A   1      17.410  21.250  71.362  1.00 23.94           C  \n",
    "ATOM      4  O   MET A   1      18.617  20.980  71.364  1.00 24.47           O  \n",
    "ATOM      5  CB  MET A   1      16.440  19.210  72.519  1.00 25.25           C  \n",
    "ATOM      6  N   ARG A   2      16.850  22.001  70.421  1.00 22.89           N  \n",
    "ATOM      7  CA  ARG A   2      17.620  22.532  69.297  1.00 21.96           C  \n",
    "ATOM      8  C   ARG A   2      18.297  23.858  69.651  1.00 21.68           C  \n",
    "ATOM      9  O   ARG A   2      17.644  24.815  70.053  1.00 22.25           O  \n",
    "ATOM     10  CB  ARG A   2      16.734  22.694  68.046  1.00 21.41           C  \n",
    "```\n",
    "\n",
    "Escreva uma função com o cabeçalho\n",
    "\n",
    "`def coords_CA(filename):`\n",
    "\n",
    "que, dado o nome de um ficheiro PDB, abra esse ficheiro, e, por processamento das linhas começadas por ATOM, devolva **uma lista de listas** em que cada elemento são as 3 coordenadas de cada carbono alfa (CA)\n",
    "\n",
    "```\n",
    "[[16.497, 20.745, 72.503], [17.62, 22.532, 69.297], ...  ...]\n",
    "```\n"
   ]
  },
  {
   "cell_type": "code",
   "execution_count": null,
   "metadata": {},
   "outputs": [],
   "source": [
    "def coords_CA(filename):\n",
    "    # COMPLETAR A FUNÇÃO\n",
    "    return coords\n",
    "\n",
    "coords = coords_CA('2p18.pdb')\n",
    "print(coords[:10])"
   ]
  },
  {
   "cell_type": "markdown",
   "metadata": {},
   "source": [
    "#### 7.\n",
    "\n",
    "Suponha que a função `coords_CA()` da pergunta 6 está disponível. \n",
    "\n",
    "Aplique essa função ao ficheiro `2p18.pdb` para obter uma lista de coordenadas.\n",
    "\n",
    "**Calcule a distância entre os dois carbonos alfa mais distantes entre si**."
   ]
  },
  {
   "cell_type": "code",
   "execution_count": null,
   "metadata": {},
   "outputs": [],
   "source": [
    "coords = coords_CA('2p18.pdb')\n",
    "\n",
    "all_distances = []\n",
    "# COMPLETAR\n",
    "maxdCA = max(all_distances)\n",
    "\n",
    "assert abs(maxdCA - 59.4) < 0.5\n",
    "\n",
    "print(f'A maior distância entre 2 átomos de carbono alfa é {maxdCA} angstrons')"
   ]
  },
  {
   "cell_type": "markdown",
   "metadata": {},
   "source": [
    "#### 8.\n",
    "\n",
    "Dado o ficheiro `uniprot_proteome_h_influenzae.fasta` com as sequências do proteoma do organismo _H. influenzae_ em formato FASTA,\n",
    "\n",
    "Escreva uma função com o cabeçalho\n",
    "\n",
    "`def extract_from_FASTA(filename):`\n",
    "\n",
    "que, dado o nome de um ficheiro FASTA, abra esse ficheiro, e devolva **uma lista de dicionários**, um para cada proteína, com as seguintes chaves e valores:\n",
    "\n",
    "- 'AC': o Uniprot Access Id,\n",
    "- 'seq': a sequ~encia da proteína\n",
    "- 'desc': a descrição da proteína\n",
    "- 'PE': o campo \"protein existence code\" (tem de ser um número inteiro)\n",
    "- 'species': a espécie\n",
    "\n",
    "Observe o formato de um header FASTA da Uniprot:\n",
    "\n",
    "\n",
    "`>sp|P44344|RL3_HAEIN 50S ribosomal protein L3 OS=Haemophilus influenzae (strain ATCC 51907 / DSM 11121 / KW20 / Rd) OX=71421 GN=rplC PE=3 SV=1`\n",
    "\n"
   ]
  },
  {
   "cell_type": "code",
   "execution_count": null,
   "metadata": {},
   "outputs": [],
   "source": [
    "def extract_from_FASTA(filename):\n",
    "\n",
    "    # COMPLETAR A FUNÇÃO\n",
    "\n",
    "    return prots\n",
    "        \n",
    "\n",
    "prots = extract_from_FASTA('uniprot_proteome_h_influenzae.fasta')\n",
    "prots[:5]"
   ]
  },
  {
   "cell_type": "markdown",
   "metadata": {},
   "source": [
    "#### 9.\n",
    "\n",
    "Aplique a função criada no exercício anterior ao ficheiro `uniprot_proteome_h_influenzae.fasta` com as sequências do proteoma do organismo _H. influenzae_ em formato FASTA.\n",
    "\n",
    "Transforme a lista de dicionários obtida num DataFrame do módulo pandas, usando o AC como índice. Mostre o DataFrame criado.\n",
    "\n",
    "- 9.1 Qual a proteína com maior sequência deste organismo?\n",
    "- 9.2 Qual a média e desvio padrão do comprimeto das proteínas\n",
    "- 9.3 Faça um histograma dos comprimentos das proteínas\n",
    "- 9.4 Faça um gráfico de barras com as contagens de cada nível PE\n",
    "\n"
   ]
  },
  {
   "cell_type": "code",
   "execution_count": null,
   "metadata": {},
   "outputs": [],
   "source": [
    "import pandas as pd\n",
    "prots =  extract_from_FASTA('uniprot_proteome_h_influenzae.fasta')\n",
    "\n",
    "hinfluenzae = pd.DataFrame(prots).set_index('AC')\n",
    "hinfluenzae"
   ]
  },
  {
   "cell_type": "code",
   "execution_count": null,
   "metadata": {},
   "outputs": [],
   "source": [
    "# precisamos de ter uma coluna com os comprimentos das proteínas\n",
    "ncol = hinfluenzae['seq'].str.len()\n",
    "hinfluenzae['n'] = ncol\n",
    "\n",
    "hinfluenzae"
   ]
  },
  {
   "cell_type": "code",
   "execution_count": null,
   "metadata": {},
   "outputs": [],
   "source": [
    "# 9.1\n",
    "\n",
    "# COMPLETAR"
   ]
  },
  {
   "cell_type": "code",
   "execution_count": null,
   "metadata": {},
   "outputs": [],
   "source": [
    "# 9.2\n",
    "# COMPLETAR"
   ]
  },
  {
   "cell_type": "code",
   "execution_count": null,
   "metadata": {},
   "outputs": [],
   "source": [
    "%matplotlib inline\n",
    "# 9.3\n",
    "# COMPLETAR . Sugestão: aplique a função hist() da Series hinfluenzae['n'] com bins=100"
   ]
  },
  {
   "cell_type": "code",
   "execution_count": null,
   "metadata": {},
   "outputs": [],
   "source": [
    "# 9.4\n",
    "\n",
    "countsPE = '' # substituír pela expressão apropriada. Sugestão: use a função value_counts()\n",
    "countsPE\n",
    "\n",
    "assert countsPE[3] == 1154"
   ]
  },
  {
   "cell_type": "code",
   "execution_count": null,
   "metadata": {},
   "outputs": [],
   "source": [
    "# 9.4\n",
    "# Dando nomes apropriados aos códigos PE...\n",
    "\n",
    "# De https://www.uniprot.org/help/protein_existence:\n",
    "\n",
    "# 1. Experimental evidence at protein level\n",
    "# 2. Experimental evidence at transcript level\n",
    "# 3. Protein inferred from homology\n",
    "# 4. Protein predicted\n",
    "# 5. Protein uncertain\n",
    "\n",
    "countsPE = countsPE.rename(index={1:'1- Experimental (protein)',\n",
    "                                  2:'2- Experimental (transcript)',\n",
    "                                  3:'3- Inferred from homology',\n",
    "                                  4:'4- Protein predicted',\n",
    "                                  5:'5 -Protein uncertain'})\n",
    "countsPE"
   ]
  },
  {
   "cell_type": "code",
   "execution_count": null,
   "metadata": {},
   "outputs": [],
   "source": [
    "ax = countsPE.plot(kind='barh', figsize=(9,6), grid=True, fontsize=14,\n",
    "                     color=['darkblue', 'pink', 'firebrick', 'darkorange', 'dodgerblue'],\n",
    "                     edgecolor='black')\n",
    "ax.invert_yaxis()"
   ]
  },
  {
   "cell_type": "markdown",
   "metadata": {},
   "source": [
    "#### 10.\n",
    "\n",
    "Dado o ficheiro `uniprot_proteome_h_influenzae.txt` com as sequências do proteoma do organismo _H. influenzae_ em formato UniProt Text, o mesmo formato do ficheiro usado nas TPs\n",
    "\n",
    "Escreva uma função com o cabeçalho\n",
    "\n",
    "`def extract_keywords_from_Uniprot_txt(filename):`\n",
    "\n",
    "que, dado o nome de um ficheiro, abra esse ficheiro, e devolva **uma lista de dicionários**, um para cada proteína, com as seguintes chaves e valores:\n",
    "\n",
    "- 'AC': o Uniprot Access Id,\n",
    "- 'keywords': uma lista com as \"keywords\" atribuídas à proteína\n",
    "\n",
    "Depois, aplicando a função ao ficheiro `uniprot_proteome_h_influenzae.txt`, responda à pergunta:\n",
    "\n",
    "**Quais são as 50 keywords mais usadas** na descrição das proteínas do organismo _H. influenzae_?\n"
   ]
  },
  {
   "cell_type": "code",
   "execution_count": null,
   "metadata": {},
   "outputs": [],
   "source": [
    "def extract_keywords_from_Uniprot_txt(filename):\n",
    "    ## COMPLETAR A FUNÇÃO\n",
    "    return prots\n",
    "        \n",
    "prots = extract_keywords_from_Uniprot_txt('uniprot_proteome_h_influenzae.txt')\n",
    "prots[:3]"
   ]
  },
  {
   "cell_type": "code",
   "execution_count": null,
   "metadata": {},
   "outputs": [],
   "source": [
    "# Juntar todas as keywords numa grande lista\n",
    "kwds = []\n",
    "# COMPLETAR\n",
    "    \n",
    "kwds[:50]"
   ]
  },
  {
   "cell_type": "code",
   "execution_count": null,
   "metadata": {},
   "outputs": [],
   "source": [
    "# transformar numa Series do Pandas\n",
    "import pandas as pd\n",
    "kwhinfluenzae = pd.Series(kwds)\n",
    "\n",
    "counts_kw = '' # COMPLETAR\n",
    "counts_kw[:50]"
   ]
  },
  {
   "cell_type": "code",
   "execution_count": null,
   "metadata": {},
   "outputs": [],
   "source": [
    "# plot ...\n",
    "\n"
   ]
  }
 ],
 "metadata": {
  "kernelspec": {
   "display_name": "Python 3",
   "language": "python",
   "name": "python3"
  },
  "language_info": {
   "codemirror_mode": {
    "name": "ipython",
    "version": 3
   },
   "file_extension": ".py",
   "mimetype": "text/x-python",
   "name": "python",
   "nbconvert_exporter": "python",
   "pygments_lexer": "ipython3",
   "version": "3.7.3"
  }
 },
 "nbformat": 4,
 "nbformat_minor": 2
}
