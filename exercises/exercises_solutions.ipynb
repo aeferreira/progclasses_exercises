{
 "cells": [
  {
   "cell_type": "markdown",
   "metadata": {},
   "source": [
    "# Exercícios revisão"
   ]
  },
  {
   "cell_type": "markdown",
   "metadata": {},
   "source": [
    "## Requisitos\n",
    "\n",
    "Para estes exercícios são necessários os seguintes ficheiros:\n",
    "\n",
    "- Estrutura **2P18** do Protein Data Bank, no formato _pdb_ `num ficheiro com o nome `2p18.pdb`.\n",
    "- Proteoma do organismo _H. influenzae_ no formato FASTA num ficheiro com o nome `uniprot_proteome_h_influenzae.fasta`.\n",
    "- Proteoma do organismo _H. influenzae_ no formato _UniProt text_ num ficheiro com o nome `uniprot_proteome_h_influenzae.txt`.\n",
    "\n",
    "Links:\n",
    "\n",
    "[Proteoma UP000000579 (H. influenzae)](https://www.uniprot.org/proteomes/UP000000579)\n",
    "\n",
    "[Estrutura 2P18](https://www.rcsb.org/structure/2p18)"
   ]
  },
  {
   "cell_type": "markdown",
   "metadata": {},
   "source": [
    "#### 1.\n",
    "\n",
    "Complete as seguintes funções.\n",
    "\n",
    "- Todas elas devem ter um único argumento `seq` que representa uma sequência de um péptido (códigos de uma letra dos aminoácidos) e devem devolver o resultado pedido em cada pergunta.\n",
    "- Todas as funções, para além do cabeçalho, **devem ter apenas uma linha de código: o comando `return` seguido de uma expressão que calcula o resultado**"
   ]
  },
  {
   "cell_type": "code",
   "execution_count": 1,
   "metadata": {},
   "outputs": [],
   "source": [
    "# cadeia polipeptídica para teste\n",
    "gre3 = 'MSSLVTLNNGLKMPLVGLGCWKIDKKVCANQIYEAIKLGYRLFDGACDYGNEKEVGEGIR'"
   ]
  },
  {
   "cell_type": "markdown",
   "metadata": {},
   "source": [
    "1.1 A função deve devolver o número de aminoácidos da sequência"
   ]
  },
  {
   "cell_type": "code",
   "execution_count": 2,
   "metadata": {},
   "outputs": [
    {
     "data": {
      "text/plain": [
       "60"
      ]
     },
     "execution_count": 2,
     "metadata": {},
     "output_type": "execute_result"
    }
   ],
   "source": [
    "def n_aminoacidos(seq):\n",
    "    return len(seq)\n",
    "n_aminoacidos(gre3)"
   ]
  },
  {
   "cell_type": "markdown",
   "metadata": {},
   "source": [
    "1.2 A função deve devolver o número de metioninas na sequência"
   ]
  },
  {
   "cell_type": "code",
   "execution_count": 3,
   "metadata": {},
   "outputs": [
    {
     "data": {
      "text/plain": [
       "2"
      ]
     },
     "execution_count": 3,
     "metadata": {},
     "output_type": "execute_result"
    }
   ],
   "source": [
    "def nM(seq):\n",
    "    return seq.count('M')\n",
    "nM(gre3)"
   ]
  },
  {
   "cell_type": "markdown",
   "metadata": {},
   "source": [
    "1.3 A função deve devolver o número de aminoácidos ácidos (D e E) na sequência."
   ]
  },
  {
   "cell_type": "code",
   "execution_count": 4,
   "metadata": {},
   "outputs": [
    {
     "data": {
      "text/plain": [
       "7"
      ]
     },
     "execution_count": 4,
     "metadata": {},
     "output_type": "execute_result"
    }
   ],
   "source": [
    "def n_aa_acidos(seq):\n",
    "    return seq.count('E') + seq.count('D')\n",
    "n_aa_acidos(gre3)"
   ]
  },
  {
   "cell_type": "markdown",
   "metadata": {},
   "source": [
    "1.4 A função deve devolver um **dicionário** que associa as posições das lisinas (K) e argininas (R) com os respetivos códigos de 1 letra"
   ]
  },
  {
   "cell_type": "code",
   "execution_count": 5,
   "metadata": {},
   "outputs": [
    {
     "data": {
      "text/plain": [
       "{11: 'K', 21: 'K', 24: 'K', 25: 'K', 36: 'K', 40: 'R', 52: 'K', 59: 'R'}"
      ]
     },
     "execution_count": 5,
     "metadata": {},
     "output_type": "execute_result"
    }
   ],
   "source": [
    "def posKR(seq):\n",
    "    return {i:a for i, a in enumerate(seq) if a in 'KR'}\n",
    "posKR(gre3)"
   ]
  },
  {
   "cell_type": "markdown",
   "metadata": {},
   "source": [
    "1.5 A função deve devolver o comprimento da sequência codificante CDS correspondente à sequência polipeptídica"
   ]
  },
  {
   "cell_type": "code",
   "execution_count": 6,
   "metadata": {},
   "outputs": [
    {
     "data": {
      "text/plain": [
       "183"
      ]
     },
     "execution_count": 6,
     "metadata": {},
     "output_type": "execute_result"
    }
   ],
   "source": [
    "def n_CDS(seq):\n",
    "    return 3 * len(seq) + 3\n",
    "n_CDS(gre3)"
   ]
  },
  {
   "cell_type": "markdown",
   "metadata": {},
   "source": [
    "1.6 A função deve devolver uma string com a sequência apresentada em sentido contrário"
   ]
  },
  {
   "cell_type": "code",
   "execution_count": 7,
   "metadata": {},
   "outputs": [
    {
     "data": {
      "text/plain": [
       "'RIGEGVEKENGYDCAGDFLRYGLKIAEYIQNACVKKDIKWCGLGVLPMKLGNNLTVLSSM'"
      ]
     },
     "execution_count": 7,
     "metadata": {},
     "output_type": "execute_result"
    }
   ],
   "source": [
    "def reverse_seq(seq):\n",
    "    return ''.join(reversed(seq))\n",
    "reverse_seq(gre3)"
   ]
  },
  {
   "cell_type": "markdown",
   "metadata": {},
   "source": [
    "1.7 A função deve devolver uma _string_ com os 10 aminoácidos finais, separados por \"-CONH-\" e acabando em \"-COOH\""
   ]
  },
  {
   "cell_type": "code",
   "execution_count": 8,
   "metadata": {},
   "outputs": [
    {
     "data": {
      "text/plain": [
       "'N-CONH-E-CONH-K-CONH-E-CONH-V-CONH-G-CONH-E-CONH-G-CONH-I-CONH-R-COOH'"
      ]
     },
     "execution_count": 8,
     "metadata": {},
     "output_type": "execute_result"
    }
   ],
   "source": [
    "def tail10(seq):\n",
    "    return '-CONH-'.join(seq[-10:]) + '-COOH'\n",
    "\n",
    "tail10(gre3)"
   ]
  },
  {
   "cell_type": "markdown",
   "metadata": {},
   "source": [
    "1.8 A função deve devolver uma lista contendo os códigos dos aminoácidos que estão a seguir ao aminoácido Glicina (G)"
   ]
  },
  {
   "cell_type": "code",
   "execution_count": 9,
   "metadata": {},
   "outputs": [
    {
     "data": {
      "text/plain": [
       "['L', 'L', 'C', 'Y', 'A', 'N', 'E', 'I']"
      ]
     },
     "execution_count": 9,
     "metadata": {},
     "output_type": "execute_result"
    }
   ],
   "source": [
    "def next2G(seq):\n",
    "    return [seq[i+1] for i in range(len(seq)-1) if seq[i] == 'G']\n",
    "next2G(gre3)"
   ]
  },
  {
   "cell_type": "markdown",
   "metadata": {},
   "source": [
    "1.9 O enzima impossiblase é um protease que atua hidrolisando uma proteína nos locais `GL`, retirando estes dois amino-ácidos dos péptidos resultantes da hidrólise. A função deve devolver uma lista com as sequências dos péptidos resultantes da ação deste enzima."
   ]
  },
  {
   "cell_type": "code",
   "execution_count": 10,
   "metadata": {},
   "outputs": [
    {
     "data": {
      "text/plain": [
       "['MSSLVTLNN', 'KMPLV', 'GCWKIDKKVCANQIYEAIKLGYRLFDGACDYGNEKEVGEGIR']"
      ]
     },
     "execution_count": 10,
     "metadata": {},
     "output_type": "execute_result"
    }
   ],
   "source": [
    "def peps_impossiblase(seq):\n",
    "    return seq.split('GL')\n",
    "peps_impossiblase(gre3)"
   ]
  },
  {
   "cell_type": "markdown",
   "metadata": {},
   "source": [
    "1.10 A função deve devolver a maior distância entre duas glicinas (G) consecutivas. Sugestão: existe a função `max()` que calcula o maior número de uma **lista de números**. (sim, tudo numa única linha!)"
   ]
  },
  {
   "cell_type": "code",
   "execution_count": 11,
   "metadata": {},
   "outputs": [
    {
     "data": {
      "text/plain": [
       "20"
      ]
     },
     "execution_count": 11,
     "metadata": {},
     "output_type": "execute_result"
    }
   ],
   "source": [
    "def longest_GG(seq):\n",
    "    return max([len(p) + 1 for p in seq.split('G')[1:-1]])\n",
    "longest_GG(gre3)"
   ]
  },
  {
   "cell_type": "markdown",
   "metadata": {},
   "source": [
    "1.11 A função deve devolver a sequência com a Metionina de iniciação removida"
   ]
  },
  {
   "cell_type": "code",
   "execution_count": 12,
   "metadata": {},
   "outputs": [
    {
     "data": {
      "text/plain": [
       "'SSLVTLNNGLKMPLVGLGCWKIDKKVCANQIYEAIKLGYRLFDGACDYGNEKEVGEGIR'"
      ]
     },
     "execution_count": 12,
     "metadata": {},
     "output_type": "execute_result"
    }
   ],
   "source": [
    "def removed_Minit(seq):\n",
    "    return seq[1:]\n",
    "removed_Minit(gre3)"
   ]
  },
  {
   "cell_type": "markdown",
   "metadata": {},
   "source": [
    "1.12 A função deve devolver a sequência do péptido mas apenas até à primeira cisteína (C), exclusivé. Se não houver cisteínas, a função devolve a sequência completa."
   ]
  },
  {
   "cell_type": "code",
   "execution_count": 13,
   "metadata": {},
   "outputs": [
    {
     "data": {
      "text/plain": [
       "'MSSLVTLNNGLKMPLVGLG'"
      ]
     },
     "execution_count": 13,
     "metadata": {},
     "output_type": "execute_result"
    }
   ],
   "source": [
    "def stop_C(seq):\n",
    "    return seq.split('C')[0]\n",
    "stop_C(gre3)"
   ]
  },
  {
   "cell_type": "markdown",
   "metadata": {},
   "source": [
    "#### 2.\n",
    "\n",
    "Suponha que está disponível num programa o dicionário com o código genético:\n",
    "```\n",
    "gencode = {\n",
    "     'UUU': 'F', 'UUC': 'F', 'UUA': 'L', 'UUG': 'L', 'UCU': 'S',\n",
    "     'UCC': 'S', 'UCA': 'S', 'UCG': 'S', 'UAU': 'Y', 'UAC': 'Y',\n",
    "...\n",
    "...\n",
    "     'GAA': 'E', 'GAG': 'E', 'GGU': 'G', 'GGC': 'G', 'GGA': 'G',\n",
    "     'GGG': 'G', 'UAA': 'STOP', 'UAG': 'STOP', 'UGA': 'STOP'}\n",
    "```\n",
    "\n",
    "Escreva a função  com o cabeçalho \n",
    "  \n",
    "`def degen(gencode):`\n",
    "\n",
    "que recebe como argumento o dicionário gencode e devolve um dicionário com \n",
    "**o nível de degeneração** de cada aminoácido. O nível de degeneração de um aminoácido \n",
    "é o numero de tripletos que codificam para esse aminoácido.\n",
    "\n",
    "Por exemplo, se aplicarmos a função com  `print( degen(gencode) )` obtemos\n",
    "\n",
    "```\n",
    "{'F': 2, 'L': 6, 'S': 6, 'Y': 2, 'C': 2, 'W': 1, 'P': 4, 'H': 2, 'Q': 2, 'R': 6, 'I': 3,\n",
    "'M': 1, 'T': 4, 'N': 2, 'K': 2, 'V': 4, 'A': 4, 'D': 2, 'E': 2, 'G': 4, 'STOP': 3}\n",
    "\n",
    "```\n"
   ]
  },
  {
   "cell_type": "code",
   "execution_count": 14,
   "metadata": {},
   "outputs": [
    {
     "name": "stdout",
     "output_type": "stream",
     "text": [
      "{'F': 2, 'L': 6, 'S': 6, 'Y': 2, 'C': 2, 'W': 1, 'P': 4, 'H': 2, 'Q': 2, 'R': 6, 'I': 3, 'M': 1, 'T': 4, 'N': 2, 'K': 2, 'V': 4, 'A': 4, 'D': 2, 'E': 2, 'G': 4, 'STOP': 3}\n"
     ]
    }
   ],
   "source": [
    "gencode = {\n",
    "     'UUU': 'F', 'UUC': 'F', 'UUA': 'L', 'UUG': 'L', 'UCU': 'S',\n",
    "     'UCC': 'S', 'UCA': 'S', 'UCG': 'S', 'UAU': 'Y', 'UAC': 'Y',\n",
    "     'UGU': 'C', 'UGC': 'C', 'UGG': 'W', 'CUU': 'L', 'CUC': 'L',\n",
    "     'CUA': 'L', 'CUG': 'L', 'CCU': 'P', 'CCC': 'P', 'CCA': 'P',\n",
    "     'CCG': 'P', 'CAU': 'H', 'CAC': 'H', 'CAA': 'Q', 'CAG': 'Q',\n",
    "     'CGU': 'R', 'CGC': 'R', 'CGA': 'R', 'CGG': 'R', 'AUU': 'I',\n",
    "     'AUC': 'I', 'AUA': 'I', 'AUG': 'M', 'ACU': 'T', 'ACC': 'T',\n",
    "     'ACA': 'T', 'ACG': 'T', 'AAU': 'N', 'AAC': 'N', 'AAA': 'K',\n",
    "     'AAG': 'K', 'AGU': 'S', 'AGC': 'S', 'AGA': 'R', 'AGG': 'R',\n",
    "     'GUU': 'V', 'GUC': 'V', 'GUA': 'V', 'GUG': 'V', 'GCU': 'A',\n",
    "     'GCC': 'A', 'GCA': 'A', 'GCG': 'A', 'GAU': 'D', 'GAC': 'D',\n",
    "     'GAA': 'E', 'GAG': 'E', 'GGU': 'G', 'GGC': 'G', 'GGA': 'G',\n",
    "     'GGG': 'G', 'UAA': 'STOP', 'UAG': 'STOP', 'UGA': 'STOP'}\n",
    "\n",
    "def degen(gencode):\n",
    "    d = {}\n",
    "    for aa in gencode.values():\n",
    "        if aa in d:\n",
    "            d[aa] = d[aa] + 1\n",
    "        else:\n",
    "            d[aa] = 1\n",
    "    return d\n",
    "\n",
    "print(degen(gencode))"
   ]
  },
  {
   "cell_type": "code",
   "execution_count": 15,
   "metadata": {},
   "outputs": [
    {
     "name": "stdout",
     "output_type": "stream",
     "text": [
      "{'F': 2, 'L': 6, 'S': 6, 'Y': 2, 'C': 2, 'W': 1, 'P': 4, 'H': 2, 'Q': 2, 'R': 6, 'I': 3, 'M': 1, 'T': 4, 'N': 2, 'K': 2, 'V': 4, 'A': 4, 'D': 2, 'E': 2, 'G': 4, 'STOP': 3}\n"
     ]
    }
   ],
   "source": [
    "# uma outra solução, consultar os docs da função setdefault(key, default)\n",
    "\n",
    "gencode = {\n",
    "     'UUU': 'F', 'UUC': 'F', 'UUA': 'L', 'UUG': 'L', 'UCU': 'S',\n",
    "     'UCC': 'S', 'UCA': 'S', 'UCG': 'S', 'UAU': 'Y', 'UAC': 'Y',\n",
    "     'UGU': 'C', 'UGC': 'C', 'UGG': 'W', 'CUU': 'L', 'CUC': 'L',\n",
    "     'CUA': 'L', 'CUG': 'L', 'CCU': 'P', 'CCC': 'P', 'CCA': 'P',\n",
    "     'CCG': 'P', 'CAU': 'H', 'CAC': 'H', 'CAA': 'Q', 'CAG': 'Q',\n",
    "     'CGU': 'R', 'CGC': 'R', 'CGA': 'R', 'CGG': 'R', 'AUU': 'I',\n",
    "     'AUC': 'I', 'AUA': 'I', 'AUG': 'M', 'ACU': 'T', 'ACC': 'T',\n",
    "     'ACA': 'T', 'ACG': 'T', 'AAU': 'N', 'AAC': 'N', 'AAA': 'K',\n",
    "     'AAG': 'K', 'AGU': 'S', 'AGC': 'S', 'AGA': 'R', 'AGG': 'R',\n",
    "     'GUU': 'V', 'GUC': 'V', 'GUA': 'V', 'GUG': 'V', 'GCU': 'A',\n",
    "     'GCC': 'A', 'GCA': 'A', 'GCG': 'A', 'GAU': 'D', 'GAC': 'D',\n",
    "     'GAA': 'E', 'GAG': 'E', 'GGU': 'G', 'GGC': 'G', 'GGA': 'G',\n",
    "     'GGG': 'G', 'UAA': 'STOP', 'UAG': 'STOP', 'UGA': 'STOP'}\n",
    "\n",
    "def degen(gencode):\n",
    "    d = {}\n",
    "    for aa in gencode.values():\n",
    "        d[aa] = d.setdefault(aa, 0) + 1\n",
    "    return d\n",
    "\n",
    "print(degen(gencode))"
   ]
  },
  {
   "cell_type": "code",
   "execution_count": 16,
   "metadata": {},
   "outputs": [
    {
     "name": "stdout",
     "output_type": "stream",
     "text": [
      "{'A': 4, 'C': 2, 'D': 2, 'E': 2, 'F': 2, 'G': 4, 'H': 2, 'I': 3, 'K': 2, 'L': 6, 'M': 1, 'N': 2, 'P': 4, 'Q': 2, 'R': 6, 'S': 6, 'T': 4, 'V': 4, 'W': 1, 'Y': 2, 'STOP': 3}\n"
     ]
    }
   ],
   "source": [
    "# outra solução, se tivermos os códigos dos 20 amino-ácidos numa string\n",
    "gencode = {\n",
    "     'UUU': 'F', 'UUC': 'F', 'UUA': 'L', 'UUG': 'L', 'UCU': 'S',\n",
    "     'UCC': 'S', 'UCA': 'S', 'UCG': 'S', 'UAU': 'Y', 'UAC': 'Y',\n",
    "     'UGU': 'C', 'UGC': 'C', 'UGG': 'W', 'CUU': 'L', 'CUC': 'L',\n",
    "     'CUA': 'L', 'CUG': 'L', 'CCU': 'P', 'CCC': 'P', 'CCA': 'P',\n",
    "     'CCG': 'P', 'CAU': 'H', 'CAC': 'H', 'CAA': 'Q', 'CAG': 'Q',\n",
    "     'CGU': 'R', 'CGC': 'R', 'CGA': 'R', 'CGG': 'R', 'AUU': 'I',\n",
    "     'AUC': 'I', 'AUA': 'I', 'AUG': 'M', 'ACU': 'T', 'ACC': 'T',\n",
    "     'ACA': 'T', 'ACG': 'T', 'AAU': 'N', 'AAC': 'N', 'AAA': 'K',\n",
    "     'AAG': 'K', 'AGU': 'S', 'AGC': 'S', 'AGA': 'R', 'AGG': 'R',\n",
    "     'GUU': 'V', 'GUC': 'V', 'GUA': 'V', 'GUG': 'V', 'GCU': 'A',\n",
    "     'GCC': 'A', 'GCA': 'A', 'GCG': 'A', 'GAU': 'D', 'GAC': 'D',\n",
    "     'GAA': 'E', 'GAG': 'E', 'GGU': 'G', 'GGC': 'G', 'GGA': 'G',\n",
    "     'GGG': 'G', 'UAA': 'STOP', 'UAG': 'STOP', 'UGA': 'STOP'}\n",
    "\n",
    "def degen(gencode):\n",
    "    \n",
    "    values = list(gencode.values())\n",
    "    return {a: values.count(a) for a in list(\"ACDEFGHIKLMNPQRSTVWY\") + ['STOP']}\n",
    "\n",
    "print(degen(gencode))"
   ]
  },
  {
   "cell_type": "code",
   "execution_count": 17,
   "metadata": {},
   "outputs": [
    {
     "name": "stdout",
     "output_type": "stream",
     "text": [
      "{'A': 4, 'C': 2, 'D': 2, 'E': 2, 'F': 2, 'G': 4, 'H': 2, 'I': 3, 'K': 2, 'L': 6, 'M': 1, 'N': 2, 'P': 4, 'Q': 2, 'R': 6, 'S': 6, 'T': 4, 'V': 4, 'W': 1, 'Y': 2, 'STOP': 3}\n"
     ]
    }
   ],
   "source": [
    "# o mesmo, se tivermos os códigos dos 20 amino-ácidos numa string, mas fazendo as contagens uma a uma\n",
    "gencode = {\n",
    "     'UUU': 'F', 'UUC': 'F', 'UUA': 'L', 'UUG': 'L', 'UCU': 'S',\n",
    "     'UCC': 'S', 'UCA': 'S', 'UCG': 'S', 'UAU': 'Y', 'UAC': 'Y',\n",
    "     'UGU': 'C', 'UGC': 'C', 'UGG': 'W', 'CUU': 'L', 'CUC': 'L',\n",
    "     'CUA': 'L', 'CUG': 'L', 'CCU': 'P', 'CCC': 'P', 'CCA': 'P',\n",
    "     'CCG': 'P', 'CAU': 'H', 'CAC': 'H', 'CAA': 'Q', 'CAG': 'Q',\n",
    "     'CGU': 'R', 'CGC': 'R', 'CGA': 'R', 'CGG': 'R', 'AUU': 'I',\n",
    "     'AUC': 'I', 'AUA': 'I', 'AUG': 'M', 'ACU': 'T', 'ACC': 'T',\n",
    "     'ACA': 'T', 'ACG': 'T', 'AAU': 'N', 'AAC': 'N', 'AAA': 'K',\n",
    "     'AAG': 'K', 'AGU': 'S', 'AGC': 'S', 'AGA': 'R', 'AGG': 'R',\n",
    "     'GUU': 'V', 'GUC': 'V', 'GUA': 'V', 'GUG': 'V', 'GCU': 'A',\n",
    "     'GCC': 'A', 'GCA': 'A', 'GCG': 'A', 'GAU': 'D', 'GAC': 'D',\n",
    "     'GAA': 'E', 'GAG': 'E', 'GGU': 'G', 'GGC': 'G', 'GGA': 'G',\n",
    "     'GGG': 'G', 'UAA': 'STOP', 'UAG': 'STOP', 'UGA': 'STOP'}\n",
    "\n",
    "def degen(gencode):\n",
    "    \n",
    "    # iniciar tudo a zeros\n",
    "    contagens = {a:0 for a in list(\"ACDEFGHIKLMNPQRSTVWY\") + ['STOP']}\n",
    "    for a in gencode.values():\n",
    "        contagens[a] = contagens[a] + 1\n",
    "        # ou, para os conhecedores, contagens[a] += 1\n",
    "    return contagens\n",
    "\n",
    "print(degen(gencode))"
   ]
  },
  {
   "cell_type": "code",
   "execution_count": 18,
   "metadata": {},
   "outputs": [
    {
     "name": "stdout",
     "output_type": "stream",
     "text": [
      "Counter({'L': 6, 'S': 6, 'R': 6, 'P': 4, 'T': 4, 'V': 4, 'A': 4, 'G': 4, 'I': 3, 'STOP': 3, 'F': 2, 'Y': 2, 'C': 2, 'H': 2, 'Q': 2, 'N': 2, 'K': 2, 'D': 2, 'E': 2, 'W': 1, 'M': 1})\n"
     ]
    }
   ],
   "source": [
    "# Para os aficionados, nos muitos módulos da linguagem Python, na \"Standard Lib\" há um chamado \"collections\" que contem um \"contador\".\n",
    "\n",
    "from collections import Counter\n",
    "\n",
    "gencode = {\n",
    "     'UUU': 'F', 'UUC': 'F', 'UUA': 'L', 'UUG': 'L', 'UCU': 'S',\n",
    "     'UCC': 'S', 'UCA': 'S', 'UCG': 'S', 'UAU': 'Y', 'UAC': 'Y',\n",
    "     'UGU': 'C', 'UGC': 'C', 'UGG': 'W', 'CUU': 'L', 'CUC': 'L',\n",
    "     'CUA': 'L', 'CUG': 'L', 'CCU': 'P', 'CCC': 'P', 'CCA': 'P',\n",
    "     'CCG': 'P', 'CAU': 'H', 'CAC': 'H', 'CAA': 'Q', 'CAG': 'Q',\n",
    "     'CGU': 'R', 'CGC': 'R', 'CGA': 'R', 'CGG': 'R', 'AUU': 'I',\n",
    "     'AUC': 'I', 'AUA': 'I', 'AUG': 'M', 'ACU': 'T', 'ACC': 'T',\n",
    "     'ACA': 'T', 'ACG': 'T', 'AAU': 'N', 'AAC': 'N', 'AAA': 'K',\n",
    "     'AAG': 'K', 'AGU': 'S', 'AGC': 'S', 'AGA': 'R', 'AGG': 'R',\n",
    "     'GUU': 'V', 'GUC': 'V', 'GUA': 'V', 'GUG': 'V', 'GCU': 'A',\n",
    "     'GCC': 'A', 'GCA': 'A', 'GCG': 'A', 'GAU': 'D', 'GAC': 'D',\n",
    "     'GAA': 'E', 'GAG': 'E', 'GGU': 'G', 'GGC': 'G', 'GGA': 'G',\n",
    "     'GGG': 'G', 'UAA': 'STOP', 'UAG': 'STOP', 'UGA': 'STOP'}\n",
    "\n",
    "def degen(gencode):\n",
    "    return Counter(gencode.values()) # sim, só isto!\n",
    "\n",
    "print(degen(gencode))"
   ]
  },
  {
   "cell_type": "markdown",
   "metadata": {},
   "source": [
    "Técnicamente, este Counter não é um dicionário, mas comporta-se como um dicionário.\n",
    "\n",
    "Ver [docs acerca do Counter](https://docs.python.org/3.7/library/collections.html#counter-objects)"
   ]
  },
  {
   "cell_type": "markdown",
   "metadata": {},
   "source": [
    "#### 3.\n",
    "\n",
    "Suponha que a função `degen()` da pergunta 2 está disponível. \n",
    "\n",
    "Escreva uma função com o cabeçalho \n",
    "\n",
    "`def degenseq(seq):` \n",
    "\n",
    "que recebe uma string `seq` com a uma sequência polipeptídica (códigos de 1 letra) \n",
    "e devolve uma **lista de inteiros** com os níveis de degeneração de \n",
    "cada aminoácido da sequência.\n",
    "\n",
    "Por exemplo, se aplicarmos a função com \n",
    "\n",
    "`print( degenseq('AVGGGKGDEM') )`\n",
    "\n",
    "obtemos\n",
    "\n",
    "`[4, 4, 4, 4, 4, 2, 4, 2, 2, 1]`\n"
   ]
  },
  {
   "cell_type": "code",
   "execution_count": 19,
   "metadata": {},
   "outputs": [
    {
     "name": "stdout",
     "output_type": "stream",
     "text": [
      "[4, 4, 4, 4, 4, 2, 4, 2, 2, 1]\n"
     ]
    }
   ],
   "source": [
    "def degenseq(seq):\n",
    "    d = degen(gencode)\n",
    "    perfil = []\n",
    "    for aa in seq:\n",
    "        perfil.append(d[aa])\n",
    "    return perfil\n",
    "\n",
    "print(degenseq('AVGGGKGDEM'))"
   ]
  },
  {
   "cell_type": "code",
   "execution_count": 20,
   "metadata": {},
   "outputs": [
    {
     "name": "stdout",
     "output_type": "stream",
     "text": [
      "[4, 4, 4, 4, 4, 2, 4, 2, 2, 1]\n"
     ]
    }
   ],
   "source": [
    "def degenseq(seq):\n",
    "    d = degen(gencode)\n",
    "    return [d[aa] for aa in seq] # versão com lista em compreensão\n",
    "\n",
    "print(degenseq('AVGGGKGDEM'))"
   ]
  },
  {
   "cell_type": "markdown",
   "metadata": {},
   "source": [
    "#### 4.\n",
    "\n",
    "Escreva uma função com o cabeçalho \n",
    "\n",
    "`def find_CDS(seq):` \n",
    "\n",
    "que recebe uma string `seq` com a uma sequência de nucleótidos.\n",
    "\n",
    "A função deve devolver uma **string** com uma sequência codificante interior à sequência.\n",
    "\n",
    "A sequência codificante deve:\n",
    "\n",
    "- começar pelo codão ATG\n",
    "- terminar num codão stop TAA, TAG ou TGA\n",
    "- ter, pelo menos, 20 codões\n",
    "\n",
    "Se não conseguir encontrar uma sequência codificante, a função deve devolver uma string vazia."
   ]
  },
  {
   "cell_type": "code",
   "execution_count": 21,
   "metadata": {},
   "outputs": [
    {
     "data": {
      "text/plain": [
       "'ATGGCTGTCTCTAAAAGTTTACGCTTGATCCGTCTACGACTCCCGTGGAAACCCAACCGTCGAAGTCGAATGGTGACAACGCTGTTTTCGCTGGTGAAAACTTCCACCACGGAATGA'"
      ]
     },
     "execution_count": 21,
     "metadata": {},
     "output_type": "execute_result"
    }
   ],
   "source": [
    "seqtest = 'TCCATTGTCATGGCTGTCTCTAAAAGTTTACGCTTGATCCGTCTACGACTCCCGTGGAAACCCAACCGTCGAAGTCGAATGGTGACAACGCTGTTTTCGCTGGTGAAAACTTCCACCACGGAATGACATTATAACGAAAAGGGTGTTTTC'\n",
    "\n",
    "def find_CDS(seq):\n",
    "    # separar em codões\n",
    "    cods = [seq[i:i+3] for i in range(0, len(seq), 3)]\n",
    "    # start e stop para as posições do início e fim da CDS\n",
    "    # -1 significa que não foram encontrados\n",
    "    start = -1\n",
    "    end = -1\n",
    "    \n",
    "    # procurar o início\n",
    "    for i, c in enumerate(cods):\n",
    "        if c == 'ATG':\n",
    "            start = i\n",
    "            break\n",
    "    # procurar o fim\n",
    "    if start != -1:\n",
    "        for i in range(start+1, len(cods)):\n",
    "            if cods[i] in ['TAA', 'TAG', 'TGA']:\n",
    "                end = i\n",
    "                break\n",
    "    # se não cumprir as condições, devolver ''\n",
    "    if start == -1 or end == -1 or end - start < 19:\n",
    "        return ''\n",
    "    # se tudo OK, juntar os codões entre start e stop\n",
    "    else:\n",
    "        return ''.join(cods[start: end+1])\n",
    "    \n",
    "find_CDS(seqtest)"
   ]
  },
  {
   "cell_type": "markdown",
   "metadata": {},
   "source": [
    "Reparar que começa por um codão de iniciação e termina num codão STOP"
   ]
  },
  {
   "cell_type": "markdown",
   "metadata": {},
   "source": [
    "#### 5.\n",
    "\n",
    "De seguida apresentam-se algumas linhas **ATOM** do ficheiro PDB 2p18.pdb.\n",
    "\n",
    "```\n",
    "ATOM      1  N   MET A   1      15.111  21.307  72.426  1.00 25.29           N  \n",
    "ATOM      2  CA  MET A   1      16.497  20.745  72.503  1.00 24.74           C  \n",
    "ATOM      3  C   MET A   1      17.410  21.250  71.362  1.00 23.94           C  \n",
    "ATOM      4  O   MET A   1      18.617  20.980  71.364  1.00 24.47           O  \n",
    "ATOM      5  CB  MET A   1      16.440  19.210  72.519  1.00 25.25           C  \n",
    "ATOM      6  N   ARG A   2      16.850  22.001  70.421  1.00 22.89           N  \n",
    "ATOM      7  CA  ARG A   2      17.620  22.532  69.297  1.00 21.96           C  \n",
    "ATOM      8  C   ARG A   2      18.297  23.858  69.651  1.00 21.68           C  \n",
    "ATOM      9  O   ARG A   2      17.644  24.815  70.053  1.00 22.25           O  \n",
    "ATOM     10  CB  ARG A   2      16.734  22.694  68.046  1.00 21.41           C  \n",
    "```\n",
    "\n",
    "Escreva uma função com o cabeçalho\n",
    "\n",
    "`def nCalpha(filename):`\n",
    "\n",
    "que, dado o nome de um ficheiro PDB, abra esse ficheiro, e, por processamento das linhas começadas por ATOM, devolva o **numero de átomos de carbono alfa** (CA) existentes na estrutura       \n"
   ]
  },
  {
   "cell_type": "code",
   "execution_count": 22,
   "metadata": {},
   "outputs": [
    {
     "name": "stdout",
     "output_type": "stream",
     "text": [
      "A estrutura 2p18 tem 285 carbonos alfa\n"
     ]
    }
   ],
   "source": [
    "def nCalpha(filename):\n",
    "    with open(filename) as datafile:\n",
    "        lines = datafile.read().splitlines()\n",
    "    count = 0\n",
    "    for line in lines:\n",
    "        if line.startswith(\"ATOM\"):\n",
    "            atomword, i, atomtype, *rest = line.split()\n",
    "            if atomtype == \"CA\":\n",
    "                count += 1\n",
    "    return count\n",
    "\n",
    "print(f'A estrutura 2p18 tem {nCalpha(\"2p18.pdb\")} carbonos alfa')"
   ]
  },
  {
   "cell_type": "markdown",
   "metadata": {},
   "source": [
    "#### 6.\n",
    "\n",
    "De seguida apresentam-se algumas linhas **ATOM** do ficheiro PDB 2p18.pdb.\n",
    "\n",
    "```\n",
    "ATOM      1  N   MET A   1      15.111  21.307  72.426  1.00 25.29           N  \n",
    "ATOM      2  CA  MET A   1      16.497  20.745  72.503  1.00 24.74           C  \n",
    "ATOM      3  C   MET A   1      17.410  21.250  71.362  1.00 23.94           C  \n",
    "ATOM      4  O   MET A   1      18.617  20.980  71.364  1.00 24.47           O  \n",
    "ATOM      5  CB  MET A   1      16.440  19.210  72.519  1.00 25.25           C  \n",
    "ATOM      6  N   ARG A   2      16.850  22.001  70.421  1.00 22.89           N  \n",
    "ATOM      7  CA  ARG A   2      17.620  22.532  69.297  1.00 21.96           C  \n",
    "ATOM      8  C   ARG A   2      18.297  23.858  69.651  1.00 21.68           C  \n",
    "ATOM      9  O   ARG A   2      17.644  24.815  70.053  1.00 22.25           O  \n",
    "ATOM     10  CB  ARG A   2      16.734  22.694  68.046  1.00 21.41           C  \n",
    "```\n",
    "\n",
    "Escreva uma função com o cabeçalho\n",
    "\n",
    "`def coords_CA(filename):`\n",
    "\n",
    "que, dado o nome de um ficheiro PDB, abra esse ficheiro, e, por processamento das linhas começadas por ATOM, devolva **uma lista de listas** em que cada elemento são as 3 coordenadas de cada carbono alfa (CA)\n",
    "\n",
    "```\n",
    "[[16.497, 20.745, 72.503], [17.62, 22.532, 69.297], ...  ...]\n",
    "```\n"
   ]
  },
  {
   "cell_type": "code",
   "execution_count": 23,
   "metadata": {},
   "outputs": [
    {
     "name": "stdout",
     "output_type": "stream",
     "text": [
      "[[16.497, 20.745, 72.503], [17.62, 22.532, 69.297], [20.397, 25.091, 69.841], [21.39, 28.271, 68.023], [24.891, 28.722, 66.628], [26.809, 31.609, 65.02], [29.257, 31.504, 62.094], [31.395, 34.661, 61.825], [33.125, 36.045, 58.724], [36.27, 37.946, 59.784]]\n"
     ]
    }
   ],
   "source": [
    "def coords_CA(filename):\n",
    "    with open(filename) as datafile:\n",
    "        lines = datafile.read().splitlines()\n",
    "    coords = []\n",
    "    for line in lines:\n",
    "        if line.startswith(\"ATOM\"):\n",
    "            atomword, i, atomtype, aa, chain, atomnum, x, y, z, *rest = line.split()\n",
    "            if atomtype == \"CA\":\n",
    "                coords.append([float(x), float(y), float(z)])\n",
    "    return coords\n",
    "\n",
    "coords = coords_CA('2p18.pdb')\n",
    "print(coords[:10])"
   ]
  },
  {
   "cell_type": "markdown",
   "metadata": {},
   "source": [
    "#### 7.\n",
    "\n",
    "Suponha que a função `coords_CA()` da pergunta 6 está disponível. \n",
    "\n",
    "Aplique essa função ao ficheiro `2p18.pdb` para obter uma lista de coordenadas.\n",
    "\n",
    "**Calcule a distância entre os dois carbonos alfa mais distantes entre si**."
   ]
  },
  {
   "cell_type": "code",
   "execution_count": 24,
   "metadata": {},
   "outputs": [
    {
     "name": "stdout",
     "output_type": "stream",
     "text": [
      "A maior distância entre 2 átomos de carbono alfa é 59.41039579905186 angstrons\n"
     ]
    }
   ],
   "source": [
    "coords = coords_CA('2p18.pdb')\n",
    "\n",
    "all_distances = []\n",
    "for i1 in range(len(coords)-1):\n",
    "    for i2 in range(i1 + 1, len(coords)):\n",
    "        x1, y1, z1 = coords[i1]\n",
    "        x2, y2, z2 = coords[i2]\n",
    "        d = ((x1-x2)**2 + (y1-y2)**2 + (z1-z2)**2)**0.5\n",
    "        all_distances.append(d)\n",
    "maxdCA = max(all_distances)\n",
    "\n",
    "print(f'A maior distância entre 2 átomos de carbono alfa é {maxdCA} angstrons')"
   ]
  },
  {
   "cell_type": "markdown",
   "metadata": {},
   "source": [
    "#### Uma pequena explicação:\n",
    "\n",
    "Imaginando que existem apena 4 carbonos alfa, numerados 0, 1, 2, 3\n",
    "\n",
    "então as distâncias a calcular seriam estas:\n",
    "\n",
    "```\n",
    "0-1 0-2 0-3\n",
    "1-2 1-3\n",
    "2-3\n",
    "```\n",
    "\n",
    "Para gerar automaticamente **os índices** destas distâncias usamos dois `for`:\n",
    "\n",
    "```\n",
    "for i1 in range(len(coords)-1):\n",
    "    for i2 in range(i1 + 1, len(coords)):\n",
    "```\n",
    "\n",
    "`i1` é o índice do primeiro carbono no cálculo de uma distância\n",
    "\n",
    "`i2` é o índice do segundo carbono no cálculo de uma distância\n",
    "\n",
    "**No exemplo acima, `i1` toma os valores 0, 1, 2 enquanto que `i2` toma os valores de `i1`+1 até 3**\n",
    "\n",
    "Generalizando:\n",
    "\n",
    "```\n",
    "for i1 in range(len(coords)-1):\n",
    "    for i2 in range(i1 + 1, len(coords)):\n",
    "```"
   ]
  },
  {
   "cell_type": "markdown",
   "metadata": {},
   "source": [
    "#### 8.\n",
    "\n",
    "Dado o ficheiro `uniprot_proteome_h_influenzae.fasta` com as sequências do proteoma do organismo _H. influenzae_ em formato FASTA,\n",
    "\n",
    "Escreva uma função com o cabeçalho\n",
    "\n",
    "`def extract_from_FASTA(filename):`\n",
    "\n",
    "que, dado o nome de um ficheiro FASTA, abra esse ficheiro, e devolva **uma lista de dicionários**, um para cada proteína, com as seguintes chaves e valores:\n",
    "\n",
    "- 'AC': o Uniprot Access Id,\n",
    "- 'seq': a sequência da proteína\n",
    "- 'desc': a descrição da proteína\n",
    "- 'PE': o campo \"protein existence code\" (tem de ser um número inteiro)\n",
    "- 'species': a espécie\n",
    "\n",
    "Observe o formato de um header FASTA da Uniprot:\n",
    "\n",
    "\n",
    "`>sp|P44344|RL3_HAEIN 50S ribosomal protein L3 OS=Haemophilus influenzae (strain ATCC 51907 / DSM 11121 / KW20 / Rd) OX=71421 GN=rplC PE=3 SV=1`\n",
    "\n"
   ]
  },
  {
   "cell_type": "code",
   "execution_count": 25,
   "metadata": {},
   "outputs": [
    {
     "data": {
      "text/plain": [
       "[{'AC': 'P44345',\n",
       "  'seq': 'MELQVVGANALTVSETTFGREFNEALIHQVVVAYAAGARQGTRAQKTRAEVSGSGKKPWRQKGTGRARAGDIKSPIWRSGGTTFAAKPQDHSQKVNKKMYRGAIKSILSELVRQDRLVVVEKFELDAPKTKVLVQKLKDLAVEDALIITASLDENLFLAARNLYKVDVRDVQGIDPVSLIAFDKVIVTVDAVKQIEEILA',\n",
       "  'desc': 'RL4_HAEIN 50S ribosomal protein L4',\n",
       "  'PE': 3,\n",
       "  'species': 'Haemophilus influenzae (strain ATCC 51907 / DSM 11121 / KW20 / Rd)'},\n",
       " {'AC': 'P43738',\n",
       "  'seq': 'MGYSYSEKKRIRKDFGKRPQVLNVPYLLTIQLDSFDKFIQKDPEGQQGLEAAFRSVFPIVSNNGYTELQYVDYRLEEPEFDVRECQIRGSTYAAGLRVKLRLVSYDKESSSRAVKDIKENEVYMGEIPLMTDNGTFVINGTERVIVSQLHRSPGVFFDSDKGKTHSSGKVLYNARIIPYRGSWLDFEFDPKDNLFARIDRRRKLPATIILRALGYTTEEILNLFFDKITFEIAGDKLLMTLVPERLRGETASFDIEANGKVYVERGRRITARHIKALEKDNISQVVVPSEYILGKVASKDYVDLESGEIICPANGEISLETLAKLAQAGYTTIETLFTNDLDYGPYISETLRVDPTYDKTSALYEIYRMMRPGEPPTPESSEALFNNLFFSAERYDLSTVGRMKFNRSLAFPEGEGAGILSNEDIIAVMRKLIDIRNGRGEVDDIDHLGNRRIRSVGEMAENQFRIGLVRVERAVKERLSLGDLDAITPQDLINPKPISAAVKEFFGSSQLSQFMDQNNPLSEVTHKRRISALGPGGLTRERAGFEVRDVHNTHYGRLCPIETPEGPNIGLINSLSAFARTNDYGFLETPYRKVVDGQVTEEIEYLSVIDEANYIIAQANSNLDENNRFTDAFVTARGERGESGLYKPEDIHYMDVSTQQVVSVAAALIPFLEHDDANRALMGANMQRQAVPTLRADKPLVGTGMEKPIALDSGVAVVAKRGGTVQYVDASRIVIKVNEDETIAGEAGIDIYNLIKYTRSNQNTCINQIPCVNLGDPINRGEVLADGPSTDLGELALGQNIRVAFMPWNGYNFEDSMLVSERVVQQDRFTTIHIQELSCVARDTKLGAEEITADIPNVGESALSKLDESGIVYVGAEVKGGDILVGKVTPKGETQLTPEEKLLRAIFGEKASDVKDSSLRVPNGTSGTVIDVQVFTRDGVEKDKRALEIEEMQLREAKKDLTEELEILEAGLFARVRNLLISSGADAAQLDKLDRTKWLEQTIADEEKQNQLEQLAEQYEELRKEFEHKLEVKRKKIIKGDDLAPGVLKVVKVYLAVKRQIQPGDKMAGRHGNKGVISKINPVEDMPYDENGQPVEIVLNPLGVPSRMNIGQILETHLGLAAKGIGDQINAMLKQKQEVEKLRSYIQKAYDLLGNGSQKVDLSTFTDEEVLRLAGNLRKGLPVATPVFDGADEAEIKELLKLGGLPTSGQITLYDGRTGEKFERPVTVGYMYMLKLNHLVDDKMHARSTGSYSLVTQQPLGGKAQFGGQRFGEMEVWALEAYGAAYTLQEMLTVKSDDVNGRTKMYKNIVSGNQHMEPGTPESFNVIMKEIRSLGLNIELDEE',\n",
       "  'desc': 'RPOB_HAEIN DNA-directed RNA polymerase subunit beta',\n",
       "  'PE': 3,\n",
       "  'species': 'Haemophilus influenzae (strain ATCC 51907 / DSM 11121 / KW20 / Rd)'},\n",
       " {'AC': 'P31777',\n",
       "  'seq': 'MLSYHHSFHAGNHADVLKHIVLMLILENLKLKEKGFFYLDTHSGVGRYRLSSNESEKTGEYKEGIGRLWDQTDLPEDIARYVKMIKKLNYGGKELRYYAGSPLIAAELLRSQDRALLTELHPSDYPILRNNFSDDKNVTVKCDNGFQQVKATLPPKERRGLVLIDPPYELKDDYDLVVKAIEEGYKRFATGTYAIWYPVVLRQQTKRIFKGLEATGIRKILKIELAVRPDSDQRGMTASGMVVINPPWTLETQMKEILPYLTKTLVPEGTGSWTVEWITPE',\n",
       "  'desc': 'RLMJ_HAEIN Ribosomal RNA large subunit methyltransferase J',\n",
       "  'PE': 1,\n",
       "  'species': 'Haemophilus influenzae (strain ATCC 51907 / DSM 11121 / KW20 / Rd)'},\n",
       " {'AC': 'P44359',\n",
       "  'seq': 'MYAVFQSGGKQHRVSEGQVVRLEKLELATGATVEFDSXLMVVNGEDVKIGAPVVAGAKVVAEVVAQGRGEKVKIVKFRRRKHSRKQQGHRQWFTEVKITGIQA',\n",
       "  'desc': 'RL21_HAEIN 50S ribosomal protein L21',\n",
       "  'PE': 3,\n",
       "  'species': 'Haemophilus influenzae (strain ATCC 51907 / DSM 11121 / KW20 / Rd)'},\n",
       " {'AC': 'P44343',\n",
       "  'seq': 'MAIVKCKPTSAGRRHVVKIVNPELHKGKPYAPLLDTKSKTGGRNNYGRITTRHIGGGHKQHYRLIDFKRNKLDIPAVVERLEYDPNRSANIALVLYKDGERRYILAPKGLSVGDQIQAGINSPIKVGNSLPMRNIPVGSTVHNVELKPGKGGQIARSAGAYVQIIAREGNYVTLRLRSGEMRKVLAECVATIGEVGNSEHMLRVLGKAGANRWRGIRPTVRGTAMNPVDHPHGGGEGRNFGKHPVTPWGVQTKGKKTRHNKRTDKYIVRRRGK',\n",
       "  'desc': 'RL2_HAEIN 50S ribosomal protein L2',\n",
       "  'PE': 3,\n",
       "  'species': 'Haemophilus influenzae (strain ATCC 51907 / DSM 11121 / KW20 / Rd)'}]"
      ]
     },
     "execution_count": 25,
     "metadata": {},
     "output_type": "execute_result"
    }
   ],
   "source": [
    "def extract_from_FASTA(filename):\n",
    "    with open(filename) as datafile:\n",
    "        records = datafile.read().split('>')\n",
    "    records.pop(0) # há um > no início do ficheiro\n",
    "    \n",
    "    prots = []\n",
    "    for prot in records:\n",
    "        # separação do header e da seq\n",
    "        header, *seqlines = prot.splitlines()\n",
    "        seq = ''.join(seqlines).replace(' ', '') # já temos a seq\n",
    "        \n",
    "        # extração da informação do header\n",
    "        db, AC, rest = header.split('|') # já temos o AC\n",
    "        desc, rest = rest.split('OS=', 1) # já temos a desc\n",
    "        species, rest = rest.split('OX=', 1) # já temos a species\n",
    "        \n",
    "        leftPE, rightPE = rest.split('PE=', 1)\n",
    "        PE = int(rightPE.split()[0]) # já temos o código PE, como inteiro\n",
    "        \n",
    "        # acrescentar novo dicionário à lista prots\n",
    "        prots.append({'AC': AC,\n",
    "                      'seq': seq,\n",
    "                      'desc': desc.strip(),\n",
    "                      'PE': PE,\n",
    "                      'species': species.strip()})\n",
    "    return prots\n",
    "        \n",
    "\n",
    "prots = extract_from_FASTA('uniprot_proteome_h_influenzae.fasta')\n",
    "prots[:5]"
   ]
  },
  {
   "cell_type": "markdown",
   "metadata": {},
   "source": [
    "#### 9.\n",
    "\n",
    "Aplique a função criada no exercício anterior ao ficheiro `uniprot_proteome_h_influenzae.fasta` com as sequências do proteoma do organismo _H. influenzae_ em formato FASTA.\n",
    "\n",
    "Transforme a lista de dicionários obtida num DataFrame do módulo pandas, usando o AC como índice. Mostre o DataFrame criado.\n",
    "\n",
    "- 9.1 Qual a proteína com maior sequência deste organismo?\n",
    "- 9.2 Qual a média e desvio padrão do comprimeto das proteínas\n",
    "- 9.3 Faça um histograma dos comprimentos das proteínas\n",
    "- 9.4 Faça um gráfico de barras com as contagens de cada nível PE\n",
    "\n"
   ]
  },
  {
   "cell_type": "code",
   "execution_count": 26,
   "metadata": {},
   "outputs": [
    {
     "data": {
      "text/html": [
       "<div>\n",
       "<style scoped>\n",
       "    .dataframe tbody tr th:only-of-type {\n",
       "        vertical-align: middle;\n",
       "    }\n",
       "\n",
       "    .dataframe tbody tr th {\n",
       "        vertical-align: top;\n",
       "    }\n",
       "\n",
       "    .dataframe thead th {\n",
       "        text-align: right;\n",
       "    }\n",
       "</style>\n",
       "<table border=\"1\" class=\"dataframe\">\n",
       "  <thead>\n",
       "    <tr style=\"text-align: right;\">\n",
       "      <th></th>\n",
       "      <th>PE</th>\n",
       "      <th>desc</th>\n",
       "      <th>seq</th>\n",
       "      <th>species</th>\n",
       "    </tr>\n",
       "    <tr>\n",
       "      <th>AC</th>\n",
       "      <th></th>\n",
       "      <th></th>\n",
       "      <th></th>\n",
       "      <th></th>\n",
       "    </tr>\n",
       "  </thead>\n",
       "  <tbody>\n",
       "    <tr>\n",
       "      <th>P44345</th>\n",
       "      <td>3</td>\n",
       "      <td>RL4_HAEIN 50S ribosomal protein L4</td>\n",
       "      <td>MELQVVGANALTVSETTFGREFNEALIHQVVVAYAAGARQGTRAQK...</td>\n",
       "      <td>Haemophilus influenzae (strain ATCC 51907 / DS...</td>\n",
       "    </tr>\n",
       "    <tr>\n",
       "      <th>P43738</th>\n",
       "      <td>3</td>\n",
       "      <td>RPOB_HAEIN DNA-directed RNA polymerase subunit...</td>\n",
       "      <td>MGYSYSEKKRIRKDFGKRPQVLNVPYLLTIQLDSFDKFIQKDPEGQ...</td>\n",
       "      <td>Haemophilus influenzae (strain ATCC 51907 / DS...</td>\n",
       "    </tr>\n",
       "    <tr>\n",
       "      <th>P31777</th>\n",
       "      <td>1</td>\n",
       "      <td>RLMJ_HAEIN Ribosomal RNA large subunit methylt...</td>\n",
       "      <td>MLSYHHSFHAGNHADVLKHIVLMLILENLKLKEKGFFYLDTHSGVG...</td>\n",
       "      <td>Haemophilus influenzae (strain ATCC 51907 / DS...</td>\n",
       "    </tr>\n",
       "    <tr>\n",
       "      <th>P44359</th>\n",
       "      <td>3</td>\n",
       "      <td>RL21_HAEIN 50S ribosomal protein L21</td>\n",
       "      <td>MYAVFQSGGKQHRVSEGQVVRLEKLELATGATVEFDSXLMVVNGED...</td>\n",
       "      <td>Haemophilus influenzae (strain ATCC 51907 / DS...</td>\n",
       "    </tr>\n",
       "    <tr>\n",
       "      <th>P44343</th>\n",
       "      <td>3</td>\n",
       "      <td>RL2_HAEIN 50S ribosomal protein L2</td>\n",
       "      <td>MAIVKCKPTSAGRRHVVKIVNPELHKGKPYAPLLDTKSKTGGRNNY...</td>\n",
       "      <td>Haemophilus influenzae (strain ATCC 51907 / DS...</td>\n",
       "    </tr>\n",
       "    <tr>\n",
       "      <th>P44756</th>\n",
       "      <td>3</td>\n",
       "      <td>RPE_HAEIN Ribulose-phosphate 3-epimerase</td>\n",
       "      <td>MKPYLIAPSILSADLARLGDDVQNVLNAGADVIHFDVMDNHYVPNL...</td>\n",
       "      <td>Haemophilus influenzae (strain ATCC 51907 / DS...</td>\n",
       "    </tr>\n",
       "    <tr>\n",
       "      <th>P44346</th>\n",
       "      <td>3</td>\n",
       "      <td>RL5_HAEIN 50S ribosomal protein L5</td>\n",
       "      <td>MAKLHDYYRDQVVSELKNKFGYKSVMQVPRIEKITLNMGVGEALTD...</td>\n",
       "      <td>Haemophilus influenzae (strain ATCC 51907 / DS...</td>\n",
       "    </tr>\n",
       "    <tr>\n",
       "      <th>P44347</th>\n",
       "      <td>3</td>\n",
       "      <td>RL6_HAEIN 50S ribosomal protein L6</td>\n",
       "      <td>MSRVAKAPVNIPAGVEVKLDGQLLTVKGKNGELSRKIHESVEVKQD...</td>\n",
       "      <td>Haemophilus influenzae (strain ATCC 51907 / DS...</td>\n",
       "    </tr>\n",
       "    <tr>\n",
       "      <th>P44083</th>\n",
       "      <td>3</td>\n",
       "      <td>RLMC_HAEIN 23S rRNA (uracil(747)-C(5))-methylt...</td>\n",
       "      <td>MIDCRYYQQNECRSCQWLEIPCSQQLTEKQYHLKQQLISINYDEAQ...</td>\n",
       "      <td>Haemophilus influenzae (strain ATCC 51907 / DS...</td>\n",
       "    </tr>\n",
       "    <tr>\n",
       "      <th>P44906</th>\n",
       "      <td>1</td>\n",
       "      <td>RLMB_HAEIN 23S rRNA (guanosine-2'-O-)-methyltr...</td>\n",
       "      <td>MSEQIYGIHAVNSILTHSPERLIEVFVLKGREDKRLQPLLNELYSL...</td>\n",
       "      <td>Haemophilus influenzae (strain ATCC 51907 / DS...</td>\n",
       "    </tr>\n",
       "    <tr>\n",
       "      <th>P44349</th>\n",
       "      <td>3</td>\n",
       "      <td>RL9_HAEIN 50S ribosomal protein L9</td>\n",
       "      <td>MQVILLDKIVHLGQVGDQVNVKSGFARNFLIPQGKAVMATKANIEH...</td>\n",
       "      <td>Haemophilus influenzae (strain ATCC 51907 / DS...</td>\n",
       "    </tr>\n",
       "    <tr>\n",
       "      <th>P44643</th>\n",
       "      <td>3</td>\n",
       "      <td>RLMD_HAEIN 23S rRNA (uracil(1939)-C(5))-methyl...</td>\n",
       "      <td>MVLLYTPKQKTKNVQTITADILDLDYQGLGVAKINGKTWFIENALP...</td>\n",
       "      <td>Haemophilus influenzae (strain ATCC 51907 / DS...</td>\n",
       "    </tr>\n",
       "    <tr>\n",
       "      <th>P46361</th>\n",
       "      <td>3</td>\n",
       "      <td>RL36_HAEIN 50S ribosomal protein L36</td>\n",
       "      <td>MKVRASVKKMCRNCKIVKREGVVRVLCSDPKHKQRQG</td>\n",
       "      <td>Haemophilus influenzae (strain ATCC 51907 / DS...</td>\n",
       "    </tr>\n",
       "    <tr>\n",
       "      <th>P43737</th>\n",
       "      <td>3</td>\n",
       "      <td>RPOA_HAEIN DNA-directed RNA polymerase subunit...</td>\n",
       "      <td>MQGSVTEFLKPRLVDIEQISSTHAKVILEPLERGFGHTLGNALRRI...</td>\n",
       "      <td>Haemophilus influenzae (strain ATCC 51907 / DS...</td>\n",
       "    </tr>\n",
       "    <tr>\n",
       "      <th>P44344</th>\n",
       "      <td>3</td>\n",
       "      <td>RL3_HAEIN 50S ribosomal protein L3</td>\n",
       "      <td>MIGLVGRKVGMTRIFNEDGVSVPVTVIEIEANRVTQVKTLENDGYT...</td>\n",
       "      <td>Haemophilus influenzae (strain ATCC 51907 / DS...</td>\n",
       "    </tr>\n",
       "    <tr>\n",
       "      <th>P44348</th>\n",
       "      <td>3</td>\n",
       "      <td>RL7_HAEIN 50S ribosomal protein L7/L12</td>\n",
       "      <td>MSLTNEQIIEAIASKTVTEIVELIAAMEEKFGVSAAAAVAAAPAAG...</td>\n",
       "      <td>Haemophilus influenzae (strain ATCC 51907 / DS...</td>\n",
       "    </tr>\n",
       "    <tr>\n",
       "      <th>P44360</th>\n",
       "      <td>3</td>\n",
       "      <td>RL22_HAEIN 50S ribosomal protein L22</td>\n",
       "      <td>METIAKHRYARTSAQKARLVADLIRGKKVAQALEILTFTNKKAAAL...</td>\n",
       "      <td>Haemophilus influenzae (strain ATCC 51907 / DS...</td>\n",
       "    </tr>\n",
       "    <tr>\n",
       "      <th>P44363</th>\n",
       "      <td>3</td>\n",
       "      <td>RL27_HAEIN 50S ribosomal protein L27</td>\n",
       "      <td>MATKKAGGSTRNGRDSEAKRLGVKRFGGESVLAGSIIVRQRGTKFH...</td>\n",
       "      <td>Haemophilus influenzae (strain ATCC 51907 / DS...</td>\n",
       "    </tr>\n",
       "    <tr>\n",
       "      <th>P44433</th>\n",
       "      <td>3</td>\n",
       "      <td>RLUC_HAEIN Ribosomal large subunit pseudouridi...</td>\n",
       "      <td>MTKQNEKIINSSVKMLTISEDESGQRIDNYLLAKLKGVPKSLIYRI...</td>\n",
       "      <td>Haemophilus influenzae (strain ATCC 51907 / DS...</td>\n",
       "    </tr>\n",
       "    <tr>\n",
       "      <th>Q57092</th>\n",
       "      <td>1</td>\n",
       "      <td>RLPA_HAEIN Endolytic peptidoglycan transglycos...</td>\n",
       "      <td>MKLKTGLNLTALLLFMISVAFPAQADTQKMYGIRGDNLSIATQMPA...</td>\n",
       "      <td>Haemophilus influenzae (strain ATCC 51907 / DS...</td>\n",
       "    </tr>\n",
       "    <tr>\n",
       "      <th>P44306</th>\n",
       "      <td>3</td>\n",
       "      <td>RNPA_HAEIN Ribonuclease P protein component</td>\n",
       "      <td>MVKLNFSRELRLLTPIQFKNVFEQPFRASTPEITILARKNNLEHPR...</td>\n",
       "      <td>Haemophilus influenzae (strain ATCC 51907 / DS...</td>\n",
       "    </tr>\n",
       "    <tr>\n",
       "      <th>P44725</th>\n",
       "      <td>1</td>\n",
       "      <td>RPIA_HAEIN Ribose-5-phosphate isomerase A</td>\n",
       "      <td>MNQLEMKKLAAQAALQYVKADTIVGVGSGSTVNCFIEALGTIKDKI...</td>\n",
       "      <td>Haemophilus influenzae (strain ATCC 51907 / DS...</td>\n",
       "    </tr>\n",
       "    <tr>\n",
       "      <th>P44827</th>\n",
       "      <td>3</td>\n",
       "      <td>RLUE_HAEIN Ribosomal large subunit pseudouridi...</td>\n",
       "      <td>MMLQAFQNRNHKLMKKNFSAGKLPSKGKSAVNFHRTFKPKLKPKTL...</td>\n",
       "      <td>Haemophilus influenzae (strain ATCC 51907 / DS...</td>\n",
       "    </tr>\n",
       "    <tr>\n",
       "      <th>P44733</th>\n",
       "      <td>3</td>\n",
       "      <td>RMUC_HAEIN DNA recombination protein RmuC homolog</td>\n",
       "      <td>MHQELSKTTQDYNQLASKFDELSSIKNQFEQQTIKVQTENQGLQYR...</td>\n",
       "      <td>Haemophilus influenzae (strain ATCC 51907 / DS...</td>\n",
       "    </tr>\n",
       "    <tr>\n",
       "      <th>P43739</th>\n",
       "      <td>3</td>\n",
       "      <td>RPOC_HAEIN DNA-directed RNA polymerase subunit...</td>\n",
       "      <td>MKDLVKFLKAQSKTSEDFDVIKIGLASPDMIRSWSFGEVKKPETIN...</td>\n",
       "      <td>Haemophilus influenzae (strain ATCC 51907 / DS...</td>\n",
       "    </tr>\n",
       "    <tr>\n",
       "      <th>P71395</th>\n",
       "      <td>3</td>\n",
       "      <td>RNFA_HAEIN Ion-translocating oxidoreductase co...</td>\n",
       "      <td>MTHYILLIIGTALINNFVLVKFLGLCPFMGVSKKIETAVGMGLATM...</td>\n",
       "      <td>Haemophilus influenzae (strain ATCC 51907 / DS...</td>\n",
       "    </tr>\n",
       "    <tr>\n",
       "      <th>P44443</th>\n",
       "      <td>3</td>\n",
       "      <td>RNE_HAEIN Ribonuclease E</td>\n",
       "      <td>MKRMLINATQKEELRVALVDGQRLFDLDIESPGHEQKKANIYKGKI...</td>\n",
       "      <td>Haemophilus influenzae (strain ATCC 51907 / DS...</td>\n",
       "    </tr>\n",
       "    <tr>\n",
       "      <th>P71397</th>\n",
       "      <td>3</td>\n",
       "      <td>RNFC_HAEIN Ion-translocating oxidoreductase co...</td>\n",
       "      <td>MADVLSRFNSGKLWDFKGGIHPPEMKSQSNSQPLRHLPLGTDFYIP...</td>\n",
       "      <td>Haemophilus influenzae (strain ATCC 51907 / DS...</td>\n",
       "    </tr>\n",
       "    <tr>\n",
       "      <th>Q57020</th>\n",
       "      <td>3</td>\n",
       "      <td>RNFE_HAEIN Ion-translocating oxidoreductase co...</td>\n",
       "      <td>MTDLTEKNTALEEEKIESAVENQQKSIWKEIFAQGIWKNNPAVVQL...</td>\n",
       "      <td>Haemophilus influenzae (strain ATCC 51907 / DS...</td>\n",
       "    </tr>\n",
       "    <tr>\n",
       "      <th>P44291</th>\n",
       "      <td>3</td>\n",
       "      <td>RNFG_HAEIN Ion-translocating oxidoreductase co...</td>\n",
       "      <td>MGTVKITSRYGILLGFIALLCTIISAGIFFLTKDKIDAVIAAQQRE...</td>\n",
       "      <td>Haemophilus influenzae (strain ATCC 51907 / DS...</td>\n",
       "    </tr>\n",
       "    <tr>\n",
       "      <th>...</th>\n",
       "      <td>...</td>\n",
       "      <td>...</td>\n",
       "      <td>...</td>\n",
       "      <td>...</td>\n",
       "    </tr>\n",
       "    <tr>\n",
       "      <th>P44405</th>\n",
       "      <td>3</td>\n",
       "      <td>DDL_HAEIN D-alanine--D-alanine ligase</td>\n",
       "      <td>MNLKQEKIAVLLGGTSAEREVSLNSGKAVLEALLKQGYNAHPIDPK...</td>\n",
       "      <td>Haemophilus influenzae (strain ATCC 51907 / DS...</td>\n",
       "    </tr>\n",
       "    <tr>\n",
       "      <th>P44855</th>\n",
       "      <td>3</td>\n",
       "      <td>DCUB_HAEIN Anaerobic C4-dicarboxylate transpor...</td>\n",
       "      <td>MSAMFLLQFAIVLLCIFVGARVGGIGLGVFGGLGLAILSFGFGLKP...</td>\n",
       "      <td>Haemophilus influenzae (strain ATCC 51907 / DS...</td>\n",
       "    </tr>\n",
       "    <tr>\n",
       "      <th>P43776</th>\n",
       "      <td>3</td>\n",
       "      <td>DHPS_HAEIN Dihydropteroate synthase</td>\n",
       "      <td>MKLYANNKCLDLSVPQIMGILNFTPDSFSDSGQFFSLDKALFQVEK...</td>\n",
       "      <td>Haemophilus influenzae (strain ATCC 51907 / DS...</td>\n",
       "    </tr>\n",
       "    <tr>\n",
       "      <th>P45284</th>\n",
       "      <td>3</td>\n",
       "      <td>DAPD_HAEIN 2,3,4,5-tetrahydropyridine-2,6-dica...</td>\n",
       "      <td>MSNLQAIIEAAFEKRAEITPKTVDAETRAAIEEVIEGLDSGKYRVA...</td>\n",
       "      <td>Haemophilus influenzae (strain ATCC 51907 / DS...</td>\n",
       "    </tr>\n",
       "    <tr>\n",
       "      <th>P44947</th>\n",
       "      <td>3</td>\n",
       "      <td>DEGS_HAEIN Serine endoprotease DegS</td>\n",
       "      <td>MLKKLFHSALWGLAAAGVILFAVPRLNNSNIFTSDDIISFKNAVRI...</td>\n",
       "      <td>Haemophilus influenzae (strain ATCC 51907 / DS...</td>\n",
       "    </tr>\n",
       "    <tr>\n",
       "      <th>P43742</th>\n",
       "      <td>3</td>\n",
       "      <td>DNAA_HAEIN Chromosomal replication initiator p...</td>\n",
       "      <td>MNLSNLWQSCLLQLQDQVSASDLSTWLRPLQADVVADNHIVLYASN...</td>\n",
       "      <td>Haemophilus influenzae (strain ATCC 51907 / DS...</td>\n",
       "    </tr>\n",
       "    <tr>\n",
       "      <th>P43735</th>\n",
       "      <td>3</td>\n",
       "      <td>DNAJ_HAEIN Chaperone protein DnaJ</td>\n",
       "      <td>MAKKDYYEVLGLQKGASEDEIKRAYKRLASKHHPDKNQGSKEAEEK...</td>\n",
       "      <td>Haemophilus influenzae (strain ATCC 51907 / DS...</td>\n",
       "    </tr>\n",
       "    <tr>\n",
       "      <th>P43784</th>\n",
       "      <td>3</td>\n",
       "      <td>DLDH_HAEIN Dihydrolipoyl dehydrogenase</td>\n",
       "      <td>MSKEIKTQVVVLGAGPAGYSAAFRCADLGLETVIVERYSTLGGVCL...</td>\n",
       "      <td>Haemophilus influenzae (strain ATCC 51907 / DS...</td>\n",
       "    </tr>\n",
       "    <tr>\n",
       "      <th>Q08346</th>\n",
       "      <td>3</td>\n",
       "      <td>DNAG_HAEIN DNA primase</td>\n",
       "      <td>MKGSIPRPFIDDLLTKSDIVDVINTRVKLKKAGRDYQACCPFHHEK...</td>\n",
       "      <td>Haemophilus influenzae (strain ATCC 51907 / DS...</td>\n",
       "    </tr>\n",
       "    <tr>\n",
       "      <th>P45061</th>\n",
       "      <td>3</td>\n",
       "      <td>MURF_HAEIN UDP-N-acetylmuramoyl-tripeptide--D-...</td>\n",
       "      <td>MIKLSTVQLAQILQAKLIGDENVQVEKINTDTRKSVSNSLFFALKG...</td>\n",
       "      <td>Haemophilus influenzae (strain ATCC 51907 / DS...</td>\n",
       "    </tr>\n",
       "    <tr>\n",
       "      <th>P45065</th>\n",
       "      <td>3</td>\n",
       "      <td>MURG_HAEIN UDP-N-acetylglucosamine--N-acetylmu...</td>\n",
       "      <td>MKNKKLLVMAGGTGGHVFPAIAVAQTLQKQEWDICWLGTKDRMEAQ...</td>\n",
       "      <td>Haemophilus influenzae (strain ATCC 51907 / DS...</td>\n",
       "    </tr>\n",
       "    <tr>\n",
       "      <th>P44834</th>\n",
       "      <td>3</td>\n",
       "      <td>MUTS_HAEIN DNA mismatch repair protein MutS</td>\n",
       "      <td>MISEENFQQHTPMMQQYLKLKAENPDILLFYRMGDFYELFYDDAKK...</td>\n",
       "      <td>Haemophilus influenzae (strain ATCC 51907 / DS...</td>\n",
       "    </tr>\n",
       "    <tr>\n",
       "      <th>P44862</th>\n",
       "      <td>1</td>\n",
       "      <td>MURQ_HAEIN N-acetylmuramic acid 6-phosphate et...</td>\n",
       "      <td>MNDIILKSLSTLITEQRNPNSVDIDRQSTLEIVRLMNEEDKLVPLA...</td>\n",
       "      <td>Haemophilus influenzae (strain ATCC 51907 / DS...</td>\n",
       "    </tr>\n",
       "    <tr>\n",
       "      <th>P44494</th>\n",
       "      <td>3</td>\n",
       "      <td>MUTL_HAEIN DNA mismatch repair protein MutL</td>\n",
       "      <td>MPIKILSPQLANQIAAGEVVERPASVVKELVENSLDAGANKIQIDI...</td>\n",
       "      <td>Haemophilus influenzae (strain ATCC 51907 / DS...</td>\n",
       "    </tr>\n",
       "    <tr>\n",
       "      <th>P44320</th>\n",
       "      <td>3</td>\n",
       "      <td>MUTY_HAEIN Adenine DNA glycosylase</td>\n",
       "      <td>MLAKSSINAPFAKSVLAWYDKFGRKHLPWQQNKTLYGVWLSEVMLQ...</td>\n",
       "      <td>Haemophilus influenzae (strain ATCC 51907 / DS...</td>\n",
       "    </tr>\n",
       "    <tr>\n",
       "      <th>P44541</th>\n",
       "      <td>1</td>\n",
       "      <td>NANK_HAEIN N-acetylmannosamine kinase</td>\n",
       "      <td>MRCLALDIGGTKIAAAIVKNGEIEQRQQIHTPRENVVEGMHQALGK...</td>\n",
       "      <td>Haemophilus influenzae (strain ATCC 51907 / DS...</td>\n",
       "    </tr>\n",
       "    <tr>\n",
       "      <th>P44538</th>\n",
       "      <td>3</td>\n",
       "      <td>NAGB_HAEIN Glucosamine-6-phosphate deaminase</td>\n",
       "      <td>MRFIPLQTEQQVSCWAAQHIINRINDFKPTAERPFVLGLPTGGTPL...</td>\n",
       "      <td>Haemophilus influenzae (strain ATCC 51907 / DS...</td>\n",
       "    </tr>\n",
       "    <tr>\n",
       "      <th>P44955</th>\n",
       "      <td>3</td>\n",
       "      <td>NAGZ_HAEIN Beta-hexosaminidase</td>\n",
       "      <td>MSSLLIDLKGKELEQEEVELLSHPLVAGLILFTRNFENREQIQELI...</td>\n",
       "      <td>Haemophilus influenzae (strain ATCC 51907 / DS...</td>\n",
       "    </tr>\n",
       "    <tr>\n",
       "      <th>P71340</th>\n",
       "      <td>3</td>\n",
       "      <td>NANE_HAEIN Putative N-acetylmannosamine-6-phos...</td>\n",
       "      <td>MSKLSYQEVLSQIQYGLISSCQPVDDGPMDKPEIVSAMAQASVMGG...</td>\n",
       "      <td>Haemophilus influenzae (strain ATCC 51907 / DS...</td>\n",
       "    </tr>\n",
       "    <tr>\n",
       "      <th>P44652</th>\n",
       "      <td>3</td>\n",
       "      <td>NAPG_HAEIN Ferredoxin-type protein NapG</td>\n",
       "      <td>MKVRLKSKKKMKKPALNPERRKFLKEATRTAGGLAGVGILLGLQQN...</td>\n",
       "      <td>Haemophilus influenzae (strain ATCC 51907 / DS...</td>\n",
       "    </tr>\n",
       "    <tr>\n",
       "      <th>P44544</th>\n",
       "      <td>1</td>\n",
       "      <td>NANM_HAEIN N-acetylneuraminate epimerase</td>\n",
       "      <td>MKLTKTALCTALFATFTFSANAQTYPDLPVGIKGGTGALIGDTVYV...</td>\n",
       "      <td>Haemophilus influenzae (strain ATCC 51907 / DS...</td>\n",
       "    </tr>\n",
       "    <tr>\n",
       "      <th>P44650</th>\n",
       "      <td>3</td>\n",
       "      <td>NAPF_HAEIN Ferredoxin-type protein NapF</td>\n",
       "      <td>MTVENLPRRQFLRGKFSTLSCLENNQKQNFVGIRPPWSVENSIFVA...</td>\n",
       "      <td>Haemophilus influenzae (strain ATCC 51907 / DS...</td>\n",
       "    </tr>\n",
       "    <tr>\n",
       "      <th>P44604</th>\n",
       "      <td>3</td>\n",
       "      <td>NARQ_HAEIN Sensor protein NarQ homolog</td>\n",
       "      <td>MYTKGSVSTRIAKYLFIILIVAGVISSLSLAIMSSNKYDAEAINIS...</td>\n",
       "      <td>Haemophilus influenzae (strain ATCC 51907 / DS...</td>\n",
       "    </tr>\n",
       "    <tr>\n",
       "      <th>P44932</th>\n",
       "      <td>3</td>\n",
       "      <td>MUTT_HAEIN 8-oxo-dGTP diphosphatase</td>\n",
       "      <td>MDKKIIQVAAGIIRNEFGQIYLTQRLEGQDFAQSLEFPGGKVDAGE...</td>\n",
       "      <td>Haemophilus influenzae (strain ATCC 51907 / DS...</td>\n",
       "    </tr>\n",
       "    <tr>\n",
       "      <th>P44958</th>\n",
       "      <td>3</td>\n",
       "      <td>MURJ_HAEIN Probable lipid II flippase MurJ</td>\n",
       "      <td>MTLLSRVLGLVRDVVIAHLIGAGAAADVFLFANRIPNFLRRLFAEG...</td>\n",
       "      <td>Haemophilus influenzae (strain ATCC 51907 / DS...</td>\n",
       "    </tr>\n",
       "    <tr>\n",
       "      <th>P45056</th>\n",
       "      <td>3</td>\n",
       "      <td>MRAZ_HAEIN Transcriptional regulator MraZ</td>\n",
       "      <td>MFRGATAVNLDSKGRVAIPTRYRAEILEKNQGQMVCTVDIRQSCLL...</td>\n",
       "      <td>Haemophilus influenzae (strain ATCC 51907 / DS...</td>\n",
       "    </tr>\n",
       "    <tr>\n",
       "      <th>P44407</th>\n",
       "      <td>3</td>\n",
       "      <td>MSBA_HAEIN Lipid A export ATP-binding/permease...</td>\n",
       "      <td>MQEQKLQENDFSTLQTFKRLWPMIKPFKAGLIVSGVALVFNALADS...</td>\n",
       "      <td>Haemophilus influenzae (strain ATCC 51907 / DS...</td>\n",
       "    </tr>\n",
       "    <tr>\n",
       "      <th>P44789</th>\n",
       "      <td>3</td>\n",
       "      <td>MSCL_HAEIN Large-conductance mechanosensitive ...</td>\n",
       "      <td>MNFIKEFREFAMRGNVVDMAVGVIIGSAFGKIVSSLVSDIFTPVLG...</td>\n",
       "      <td>Haemophilus influenzae (strain ATCC 51907 / DS...</td>\n",
       "    </tr>\n",
       "    <tr>\n",
       "      <th>P44688</th>\n",
       "      <td>1</td>\n",
       "      <td>MUTH_HAEIN DNA mismatch repair protein MutH</td>\n",
       "      <td>MIPQTLEQLLSQAQSIAGLTFGELADELHIPVPIDLKRDKGWVGML...</td>\n",
       "      <td>Haemophilus influenzae (strain ATCC 51907 / DS...</td>\n",
       "    </tr>\n",
       "    <tr>\n",
       "      <th>P45060</th>\n",
       "      <td>3</td>\n",
       "      <td>MURE_HAEIN UDP-N-acetylmuramoyl-L-alanyl-D-glu...</td>\n",
       "      <td>MKKLTALFNLPELKNDIELHNMVLDSRKVKAGDLFVAIKGHQVDGN...</td>\n",
       "      <td>Haemophilus influenzae (strain ATCC 51907 / DS...</td>\n",
       "    </tr>\n",
       "  </tbody>\n",
       "</table>\n",
       "<p>1707 rows × 4 columns</p>\n",
       "</div>"
      ],
      "text/plain": [
       "        PE                                               desc  \\\n",
       "AC                                                              \n",
       "P44345   3                 RL4_HAEIN 50S ribosomal protein L4   \n",
       "P43738   3  RPOB_HAEIN DNA-directed RNA polymerase subunit...   \n",
       "P31777   1  RLMJ_HAEIN Ribosomal RNA large subunit methylt...   \n",
       "P44359   3               RL21_HAEIN 50S ribosomal protein L21   \n",
       "P44343   3                 RL2_HAEIN 50S ribosomal protein L2   \n",
       "P44756   3           RPE_HAEIN Ribulose-phosphate 3-epimerase   \n",
       "P44346   3                 RL5_HAEIN 50S ribosomal protein L5   \n",
       "P44347   3                 RL6_HAEIN 50S ribosomal protein L6   \n",
       "P44083   3  RLMC_HAEIN 23S rRNA (uracil(747)-C(5))-methylt...   \n",
       "P44906   1  RLMB_HAEIN 23S rRNA (guanosine-2'-O-)-methyltr...   \n",
       "P44349   3                 RL9_HAEIN 50S ribosomal protein L9   \n",
       "P44643   3  RLMD_HAEIN 23S rRNA (uracil(1939)-C(5))-methyl...   \n",
       "P46361   3               RL36_HAEIN 50S ribosomal protein L36   \n",
       "P43737   3  RPOA_HAEIN DNA-directed RNA polymerase subunit...   \n",
       "P44344   3                 RL3_HAEIN 50S ribosomal protein L3   \n",
       "P44348   3             RL7_HAEIN 50S ribosomal protein L7/L12   \n",
       "P44360   3               RL22_HAEIN 50S ribosomal protein L22   \n",
       "P44363   3               RL27_HAEIN 50S ribosomal protein L27   \n",
       "P44433   3  RLUC_HAEIN Ribosomal large subunit pseudouridi...   \n",
       "Q57092   1  RLPA_HAEIN Endolytic peptidoglycan transglycos...   \n",
       "P44306   3        RNPA_HAEIN Ribonuclease P protein component   \n",
       "P44725   1          RPIA_HAEIN Ribose-5-phosphate isomerase A   \n",
       "P44827   3  RLUE_HAEIN Ribosomal large subunit pseudouridi...   \n",
       "P44733   3  RMUC_HAEIN DNA recombination protein RmuC homolog   \n",
       "P43739   3  RPOC_HAEIN DNA-directed RNA polymerase subunit...   \n",
       "P71395   3  RNFA_HAEIN Ion-translocating oxidoreductase co...   \n",
       "P44443   3                           RNE_HAEIN Ribonuclease E   \n",
       "P71397   3  RNFC_HAEIN Ion-translocating oxidoreductase co...   \n",
       "Q57020   3  RNFE_HAEIN Ion-translocating oxidoreductase co...   \n",
       "P44291   3  RNFG_HAEIN Ion-translocating oxidoreductase co...   \n",
       "...     ..                                                ...   \n",
       "P44405   3              DDL_HAEIN D-alanine--D-alanine ligase   \n",
       "P44855   3  DCUB_HAEIN Anaerobic C4-dicarboxylate transpor...   \n",
       "P43776   3                DHPS_HAEIN Dihydropteroate synthase   \n",
       "P45284   3  DAPD_HAEIN 2,3,4,5-tetrahydropyridine-2,6-dica...   \n",
       "P44947   3                DEGS_HAEIN Serine endoprotease DegS   \n",
       "P43742   3  DNAA_HAEIN Chromosomal replication initiator p...   \n",
       "P43735   3                  DNAJ_HAEIN Chaperone protein DnaJ   \n",
       "P43784   3             DLDH_HAEIN Dihydrolipoyl dehydrogenase   \n",
       "Q08346   3                             DNAG_HAEIN DNA primase   \n",
       "P45061   3  MURF_HAEIN UDP-N-acetylmuramoyl-tripeptide--D-...   \n",
       "P45065   3  MURG_HAEIN UDP-N-acetylglucosamine--N-acetylmu...   \n",
       "P44834   3        MUTS_HAEIN DNA mismatch repair protein MutS   \n",
       "P44862   1  MURQ_HAEIN N-acetylmuramic acid 6-phosphate et...   \n",
       "P44494   3        MUTL_HAEIN DNA mismatch repair protein MutL   \n",
       "P44320   3                 MUTY_HAEIN Adenine DNA glycosylase   \n",
       "P44541   1              NANK_HAEIN N-acetylmannosamine kinase   \n",
       "P44538   3       NAGB_HAEIN Glucosamine-6-phosphate deaminase   \n",
       "P44955   3                     NAGZ_HAEIN Beta-hexosaminidase   \n",
       "P71340   3  NANE_HAEIN Putative N-acetylmannosamine-6-phos...   \n",
       "P44652   3            NAPG_HAEIN Ferredoxin-type protein NapG   \n",
       "P44544   1           NANM_HAEIN N-acetylneuraminate epimerase   \n",
       "P44650   3            NAPF_HAEIN Ferredoxin-type protein NapF   \n",
       "P44604   3             NARQ_HAEIN Sensor protein NarQ homolog   \n",
       "P44932   3                MUTT_HAEIN 8-oxo-dGTP diphosphatase   \n",
       "P44958   3         MURJ_HAEIN Probable lipid II flippase MurJ   \n",
       "P45056   3          MRAZ_HAEIN Transcriptional regulator MraZ   \n",
       "P44407   3  MSBA_HAEIN Lipid A export ATP-binding/permease...   \n",
       "P44789   3  MSCL_HAEIN Large-conductance mechanosensitive ...   \n",
       "P44688   1        MUTH_HAEIN DNA mismatch repair protein MutH   \n",
       "P45060   3  MURE_HAEIN UDP-N-acetylmuramoyl-L-alanyl-D-glu...   \n",
       "\n",
       "                                                      seq  \\\n",
       "AC                                                          \n",
       "P44345  MELQVVGANALTVSETTFGREFNEALIHQVVVAYAAGARQGTRAQK...   \n",
       "P43738  MGYSYSEKKRIRKDFGKRPQVLNVPYLLTIQLDSFDKFIQKDPEGQ...   \n",
       "P31777  MLSYHHSFHAGNHADVLKHIVLMLILENLKLKEKGFFYLDTHSGVG...   \n",
       "P44359  MYAVFQSGGKQHRVSEGQVVRLEKLELATGATVEFDSXLMVVNGED...   \n",
       "P44343  MAIVKCKPTSAGRRHVVKIVNPELHKGKPYAPLLDTKSKTGGRNNY...   \n",
       "P44756  MKPYLIAPSILSADLARLGDDVQNVLNAGADVIHFDVMDNHYVPNL...   \n",
       "P44346  MAKLHDYYRDQVVSELKNKFGYKSVMQVPRIEKITLNMGVGEALTD...   \n",
       "P44347  MSRVAKAPVNIPAGVEVKLDGQLLTVKGKNGELSRKIHESVEVKQD...   \n",
       "P44083  MIDCRYYQQNECRSCQWLEIPCSQQLTEKQYHLKQQLISINYDEAQ...   \n",
       "P44906  MSEQIYGIHAVNSILTHSPERLIEVFVLKGREDKRLQPLLNELYSL...   \n",
       "P44349  MQVILLDKIVHLGQVGDQVNVKSGFARNFLIPQGKAVMATKANIEH...   \n",
       "P44643  MVLLYTPKQKTKNVQTITADILDLDYQGLGVAKINGKTWFIENALP...   \n",
       "P46361              MKVRASVKKMCRNCKIVKREGVVRVLCSDPKHKQRQG   \n",
       "P43737  MQGSVTEFLKPRLVDIEQISSTHAKVILEPLERGFGHTLGNALRRI...   \n",
       "P44344  MIGLVGRKVGMTRIFNEDGVSVPVTVIEIEANRVTQVKTLENDGYT...   \n",
       "P44348  MSLTNEQIIEAIASKTVTEIVELIAAMEEKFGVSAAAAVAAAPAAG...   \n",
       "P44360  METIAKHRYARTSAQKARLVADLIRGKKVAQALEILTFTNKKAAAL...   \n",
       "P44363  MATKKAGGSTRNGRDSEAKRLGVKRFGGESVLAGSIIVRQRGTKFH...   \n",
       "P44433  MTKQNEKIINSSVKMLTISEDESGQRIDNYLLAKLKGVPKSLIYRI...   \n",
       "Q57092  MKLKTGLNLTALLLFMISVAFPAQADTQKMYGIRGDNLSIATQMPA...   \n",
       "P44306  MVKLNFSRELRLLTPIQFKNVFEQPFRASTPEITILARKNNLEHPR...   \n",
       "P44725  MNQLEMKKLAAQAALQYVKADTIVGVGSGSTVNCFIEALGTIKDKI...   \n",
       "P44827  MMLQAFQNRNHKLMKKNFSAGKLPSKGKSAVNFHRTFKPKLKPKTL...   \n",
       "P44733  MHQELSKTTQDYNQLASKFDELSSIKNQFEQQTIKVQTENQGLQYR...   \n",
       "P43739  MKDLVKFLKAQSKTSEDFDVIKIGLASPDMIRSWSFGEVKKPETIN...   \n",
       "P71395  MTHYILLIIGTALINNFVLVKFLGLCPFMGVSKKIETAVGMGLATM...   \n",
       "P44443  MKRMLINATQKEELRVALVDGQRLFDLDIESPGHEQKKANIYKGKI...   \n",
       "P71397  MADVLSRFNSGKLWDFKGGIHPPEMKSQSNSQPLRHLPLGTDFYIP...   \n",
       "Q57020  MTDLTEKNTALEEEKIESAVENQQKSIWKEIFAQGIWKNNPAVVQL...   \n",
       "P44291  MGTVKITSRYGILLGFIALLCTIISAGIFFLTKDKIDAVIAAQQRE...   \n",
       "...                                                   ...   \n",
       "P44405  MNLKQEKIAVLLGGTSAEREVSLNSGKAVLEALLKQGYNAHPIDPK...   \n",
       "P44855  MSAMFLLQFAIVLLCIFVGARVGGIGLGVFGGLGLAILSFGFGLKP...   \n",
       "P43776  MKLYANNKCLDLSVPQIMGILNFTPDSFSDSGQFFSLDKALFQVEK...   \n",
       "P45284  MSNLQAIIEAAFEKRAEITPKTVDAETRAAIEEVIEGLDSGKYRVA...   \n",
       "P44947  MLKKLFHSALWGLAAAGVILFAVPRLNNSNIFTSDDIISFKNAVRI...   \n",
       "P43742  MNLSNLWQSCLLQLQDQVSASDLSTWLRPLQADVVADNHIVLYASN...   \n",
       "P43735  MAKKDYYEVLGLQKGASEDEIKRAYKRLASKHHPDKNQGSKEAEEK...   \n",
       "P43784  MSKEIKTQVVVLGAGPAGYSAAFRCADLGLETVIVERYSTLGGVCL...   \n",
       "Q08346  MKGSIPRPFIDDLLTKSDIVDVINTRVKLKKAGRDYQACCPFHHEK...   \n",
       "P45061  MIKLSTVQLAQILQAKLIGDENVQVEKINTDTRKSVSNSLFFALKG...   \n",
       "P45065  MKNKKLLVMAGGTGGHVFPAIAVAQTLQKQEWDICWLGTKDRMEAQ...   \n",
       "P44834  MISEENFQQHTPMMQQYLKLKAENPDILLFYRMGDFYELFYDDAKK...   \n",
       "P44862  MNDIILKSLSTLITEQRNPNSVDIDRQSTLEIVRLMNEEDKLVPLA...   \n",
       "P44494  MPIKILSPQLANQIAAGEVVERPASVVKELVENSLDAGANKIQIDI...   \n",
       "P44320  MLAKSSINAPFAKSVLAWYDKFGRKHLPWQQNKTLYGVWLSEVMLQ...   \n",
       "P44541  MRCLALDIGGTKIAAAIVKNGEIEQRQQIHTPRENVVEGMHQALGK...   \n",
       "P44538  MRFIPLQTEQQVSCWAAQHIINRINDFKPTAERPFVLGLPTGGTPL...   \n",
       "P44955  MSSLLIDLKGKELEQEEVELLSHPLVAGLILFTRNFENREQIQELI...   \n",
       "P71340  MSKLSYQEVLSQIQYGLISSCQPVDDGPMDKPEIVSAMAQASVMGG...   \n",
       "P44652  MKVRLKSKKKMKKPALNPERRKFLKEATRTAGGLAGVGILLGLQQN...   \n",
       "P44544  MKLTKTALCTALFATFTFSANAQTYPDLPVGIKGGTGALIGDTVYV...   \n",
       "P44650  MTVENLPRRQFLRGKFSTLSCLENNQKQNFVGIRPPWSVENSIFVA...   \n",
       "P44604  MYTKGSVSTRIAKYLFIILIVAGVISSLSLAIMSSNKYDAEAINIS...   \n",
       "P44932  MDKKIIQVAAGIIRNEFGQIYLTQRLEGQDFAQSLEFPGGKVDAGE...   \n",
       "P44958  MTLLSRVLGLVRDVVIAHLIGAGAAADVFLFANRIPNFLRRLFAEG...   \n",
       "P45056  MFRGATAVNLDSKGRVAIPTRYRAEILEKNQGQMVCTVDIRQSCLL...   \n",
       "P44407  MQEQKLQENDFSTLQTFKRLWPMIKPFKAGLIVSGVALVFNALADS...   \n",
       "P44789  MNFIKEFREFAMRGNVVDMAVGVIIGSAFGKIVSSLVSDIFTPVLG...   \n",
       "P44688  MIPQTLEQLLSQAQSIAGLTFGELADELHIPVPIDLKRDKGWVGML...   \n",
       "P45060  MKKLTALFNLPELKNDIELHNMVLDSRKVKAGDLFVAIKGHQVDGN...   \n",
       "\n",
       "                                                  species  \n",
       "AC                                                         \n",
       "P44345  Haemophilus influenzae (strain ATCC 51907 / DS...  \n",
       "P43738  Haemophilus influenzae (strain ATCC 51907 / DS...  \n",
       "P31777  Haemophilus influenzae (strain ATCC 51907 / DS...  \n",
       "P44359  Haemophilus influenzae (strain ATCC 51907 / DS...  \n",
       "P44343  Haemophilus influenzae (strain ATCC 51907 / DS...  \n",
       "P44756  Haemophilus influenzae (strain ATCC 51907 / DS...  \n",
       "P44346  Haemophilus influenzae (strain ATCC 51907 / DS...  \n",
       "P44347  Haemophilus influenzae (strain ATCC 51907 / DS...  \n",
       "P44083  Haemophilus influenzae (strain ATCC 51907 / DS...  \n",
       "P44906  Haemophilus influenzae (strain ATCC 51907 / DS...  \n",
       "P44349  Haemophilus influenzae (strain ATCC 51907 / DS...  \n",
       "P44643  Haemophilus influenzae (strain ATCC 51907 / DS...  \n",
       "P46361  Haemophilus influenzae (strain ATCC 51907 / DS...  \n",
       "P43737  Haemophilus influenzae (strain ATCC 51907 / DS...  \n",
       "P44344  Haemophilus influenzae (strain ATCC 51907 / DS...  \n",
       "P44348  Haemophilus influenzae (strain ATCC 51907 / DS...  \n",
       "P44360  Haemophilus influenzae (strain ATCC 51907 / DS...  \n",
       "P44363  Haemophilus influenzae (strain ATCC 51907 / DS...  \n",
       "P44433  Haemophilus influenzae (strain ATCC 51907 / DS...  \n",
       "Q57092  Haemophilus influenzae (strain ATCC 51907 / DS...  \n",
       "P44306  Haemophilus influenzae (strain ATCC 51907 / DS...  \n",
       "P44725  Haemophilus influenzae (strain ATCC 51907 / DS...  \n",
       "P44827  Haemophilus influenzae (strain ATCC 51907 / DS...  \n",
       "P44733  Haemophilus influenzae (strain ATCC 51907 / DS...  \n",
       "P43739  Haemophilus influenzae (strain ATCC 51907 / DS...  \n",
       "P71395  Haemophilus influenzae (strain ATCC 51907 / DS...  \n",
       "P44443  Haemophilus influenzae (strain ATCC 51907 / DS...  \n",
       "P71397  Haemophilus influenzae (strain ATCC 51907 / DS...  \n",
       "Q57020  Haemophilus influenzae (strain ATCC 51907 / DS...  \n",
       "P44291  Haemophilus influenzae (strain ATCC 51907 / DS...  \n",
       "...                                                   ...  \n",
       "P44405  Haemophilus influenzae (strain ATCC 51907 / DS...  \n",
       "P44855  Haemophilus influenzae (strain ATCC 51907 / DS...  \n",
       "P43776  Haemophilus influenzae (strain ATCC 51907 / DS...  \n",
       "P45284  Haemophilus influenzae (strain ATCC 51907 / DS...  \n",
       "P44947  Haemophilus influenzae (strain ATCC 51907 / DS...  \n",
       "P43742  Haemophilus influenzae (strain ATCC 51907 / DS...  \n",
       "P43735  Haemophilus influenzae (strain ATCC 51907 / DS...  \n",
       "P43784  Haemophilus influenzae (strain ATCC 51907 / DS...  \n",
       "Q08346  Haemophilus influenzae (strain ATCC 51907 / DS...  \n",
       "P45061  Haemophilus influenzae (strain ATCC 51907 / DS...  \n",
       "P45065  Haemophilus influenzae (strain ATCC 51907 / DS...  \n",
       "P44834  Haemophilus influenzae (strain ATCC 51907 / DS...  \n",
       "P44862  Haemophilus influenzae (strain ATCC 51907 / DS...  \n",
       "P44494  Haemophilus influenzae (strain ATCC 51907 / DS...  \n",
       "P44320  Haemophilus influenzae (strain ATCC 51907 / DS...  \n",
       "P44541  Haemophilus influenzae (strain ATCC 51907 / DS...  \n",
       "P44538  Haemophilus influenzae (strain ATCC 51907 / DS...  \n",
       "P44955  Haemophilus influenzae (strain ATCC 51907 / DS...  \n",
       "P71340  Haemophilus influenzae (strain ATCC 51907 / DS...  \n",
       "P44652  Haemophilus influenzae (strain ATCC 51907 / DS...  \n",
       "P44544  Haemophilus influenzae (strain ATCC 51907 / DS...  \n",
       "P44650  Haemophilus influenzae (strain ATCC 51907 / DS...  \n",
       "P44604  Haemophilus influenzae (strain ATCC 51907 / DS...  \n",
       "P44932  Haemophilus influenzae (strain ATCC 51907 / DS...  \n",
       "P44958  Haemophilus influenzae (strain ATCC 51907 / DS...  \n",
       "P45056  Haemophilus influenzae (strain ATCC 51907 / DS...  \n",
       "P44407  Haemophilus influenzae (strain ATCC 51907 / DS...  \n",
       "P44789  Haemophilus influenzae (strain ATCC 51907 / DS...  \n",
       "P44688  Haemophilus influenzae (strain ATCC 51907 / DS...  \n",
       "P45060  Haemophilus influenzae (strain ATCC 51907 / DS...  \n",
       "\n",
       "[1707 rows x 4 columns]"
      ]
     },
     "execution_count": 26,
     "metadata": {},
     "output_type": "execute_result"
    }
   ],
   "source": [
    "import pandas as pd\n",
    "prots =  extract_from_FASTA('uniprot_proteome_h_influenzae.fasta')\n",
    "\n",
    "hinfluenzae = pd.DataFrame(prots).set_index('AC')\n",
    "hinfluenzae"
   ]
  },
  {
   "cell_type": "code",
   "execution_count": 27,
   "metadata": {},
   "outputs": [
    {
     "data": {
      "text/html": [
       "<div>\n",
       "<style scoped>\n",
       "    .dataframe tbody tr th:only-of-type {\n",
       "        vertical-align: middle;\n",
       "    }\n",
       "\n",
       "    .dataframe tbody tr th {\n",
       "        vertical-align: top;\n",
       "    }\n",
       "\n",
       "    .dataframe thead th {\n",
       "        text-align: right;\n",
       "    }\n",
       "</style>\n",
       "<table border=\"1\" class=\"dataframe\">\n",
       "  <thead>\n",
       "    <tr style=\"text-align: right;\">\n",
       "      <th></th>\n",
       "      <th>PE</th>\n",
       "      <th>desc</th>\n",
       "      <th>seq</th>\n",
       "      <th>species</th>\n",
       "      <th>n</th>\n",
       "    </tr>\n",
       "    <tr>\n",
       "      <th>AC</th>\n",
       "      <th></th>\n",
       "      <th></th>\n",
       "      <th></th>\n",
       "      <th></th>\n",
       "      <th></th>\n",
       "    </tr>\n",
       "  </thead>\n",
       "  <tbody>\n",
       "    <tr>\n",
       "      <th>P44345</th>\n",
       "      <td>3</td>\n",
       "      <td>RL4_HAEIN 50S ribosomal protein L4</td>\n",
       "      <td>MELQVVGANALTVSETTFGREFNEALIHQVVVAYAAGARQGTRAQK...</td>\n",
       "      <td>Haemophilus influenzae (strain ATCC 51907 / DS...</td>\n",
       "      <td>200</td>\n",
       "    </tr>\n",
       "    <tr>\n",
       "      <th>P43738</th>\n",
       "      <td>3</td>\n",
       "      <td>RPOB_HAEIN DNA-directed RNA polymerase subunit...</td>\n",
       "      <td>MGYSYSEKKRIRKDFGKRPQVLNVPYLLTIQLDSFDKFIQKDPEGQ...</td>\n",
       "      <td>Haemophilus influenzae (strain ATCC 51907 / DS...</td>\n",
       "      <td>1343</td>\n",
       "    </tr>\n",
       "    <tr>\n",
       "      <th>P31777</th>\n",
       "      <td>1</td>\n",
       "      <td>RLMJ_HAEIN Ribosomal RNA large subunit methylt...</td>\n",
       "      <td>MLSYHHSFHAGNHADVLKHIVLMLILENLKLKEKGFFYLDTHSGVG...</td>\n",
       "      <td>Haemophilus influenzae (strain ATCC 51907 / DS...</td>\n",
       "      <td>281</td>\n",
       "    </tr>\n",
       "    <tr>\n",
       "      <th>P44359</th>\n",
       "      <td>3</td>\n",
       "      <td>RL21_HAEIN 50S ribosomal protein L21</td>\n",
       "      <td>MYAVFQSGGKQHRVSEGQVVRLEKLELATGATVEFDSXLMVVNGED...</td>\n",
       "      <td>Haemophilus influenzae (strain ATCC 51907 / DS...</td>\n",
       "      <td>103</td>\n",
       "    </tr>\n",
       "    <tr>\n",
       "      <th>P44343</th>\n",
       "      <td>3</td>\n",
       "      <td>RL2_HAEIN 50S ribosomal protein L2</td>\n",
       "      <td>MAIVKCKPTSAGRRHVVKIVNPELHKGKPYAPLLDTKSKTGGRNNY...</td>\n",
       "      <td>Haemophilus influenzae (strain ATCC 51907 / DS...</td>\n",
       "      <td>273</td>\n",
       "    </tr>\n",
       "    <tr>\n",
       "      <th>P44756</th>\n",
       "      <td>3</td>\n",
       "      <td>RPE_HAEIN Ribulose-phosphate 3-epimerase</td>\n",
       "      <td>MKPYLIAPSILSADLARLGDDVQNVLNAGADVIHFDVMDNHYVPNL...</td>\n",
       "      <td>Haemophilus influenzae (strain ATCC 51907 / DS...</td>\n",
       "      <td>224</td>\n",
       "    </tr>\n",
       "    <tr>\n",
       "      <th>P44346</th>\n",
       "      <td>3</td>\n",
       "      <td>RL5_HAEIN 50S ribosomal protein L5</td>\n",
       "      <td>MAKLHDYYRDQVVSELKNKFGYKSVMQVPRIEKITLNMGVGEALTD...</td>\n",
       "      <td>Haemophilus influenzae (strain ATCC 51907 / DS...</td>\n",
       "      <td>179</td>\n",
       "    </tr>\n",
       "    <tr>\n",
       "      <th>P44347</th>\n",
       "      <td>3</td>\n",
       "      <td>RL6_HAEIN 50S ribosomal protein L6</td>\n",
       "      <td>MSRVAKAPVNIPAGVEVKLDGQLLTVKGKNGELSRKIHESVEVKQD...</td>\n",
       "      <td>Haemophilus influenzae (strain ATCC 51907 / DS...</td>\n",
       "      <td>177</td>\n",
       "    </tr>\n",
       "    <tr>\n",
       "      <th>P44083</th>\n",
       "      <td>3</td>\n",
       "      <td>RLMC_HAEIN 23S rRNA (uracil(747)-C(5))-methylt...</td>\n",
       "      <td>MIDCRYYQQNECRSCQWLEIPCSQQLTEKQYHLKQQLISINYDEAQ...</td>\n",
       "      <td>Haemophilus influenzae (strain ATCC 51907 / DS...</td>\n",
       "      <td>392</td>\n",
       "    </tr>\n",
       "    <tr>\n",
       "      <th>P44906</th>\n",
       "      <td>1</td>\n",
       "      <td>RLMB_HAEIN 23S rRNA (guanosine-2'-O-)-methyltr...</td>\n",
       "      <td>MSEQIYGIHAVNSILTHSPERLIEVFVLKGREDKRLQPLLNELYSL...</td>\n",
       "      <td>Haemophilus influenzae (strain ATCC 51907 / DS...</td>\n",
       "      <td>246</td>\n",
       "    </tr>\n",
       "    <tr>\n",
       "      <th>P44349</th>\n",
       "      <td>3</td>\n",
       "      <td>RL9_HAEIN 50S ribosomal protein L9</td>\n",
       "      <td>MQVILLDKIVHLGQVGDQVNVKSGFARNFLIPQGKAVMATKANIEH...</td>\n",
       "      <td>Haemophilus influenzae (strain ATCC 51907 / DS...</td>\n",
       "      <td>149</td>\n",
       "    </tr>\n",
       "    <tr>\n",
       "      <th>P44643</th>\n",
       "      <td>3</td>\n",
       "      <td>RLMD_HAEIN 23S rRNA (uracil(1939)-C(5))-methyl...</td>\n",
       "      <td>MVLLYTPKQKTKNVQTITADILDLDYQGLGVAKINGKTWFIENALP...</td>\n",
       "      <td>Haemophilus influenzae (strain ATCC 51907 / DS...</td>\n",
       "      <td>438</td>\n",
       "    </tr>\n",
       "    <tr>\n",
       "      <th>P46361</th>\n",
       "      <td>3</td>\n",
       "      <td>RL36_HAEIN 50S ribosomal protein L36</td>\n",
       "      <td>MKVRASVKKMCRNCKIVKREGVVRVLCSDPKHKQRQG</td>\n",
       "      <td>Haemophilus influenzae (strain ATCC 51907 / DS...</td>\n",
       "      <td>37</td>\n",
       "    </tr>\n",
       "    <tr>\n",
       "      <th>P43737</th>\n",
       "      <td>3</td>\n",
       "      <td>RPOA_HAEIN DNA-directed RNA polymerase subunit...</td>\n",
       "      <td>MQGSVTEFLKPRLVDIEQISSTHAKVILEPLERGFGHTLGNALRRI...</td>\n",
       "      <td>Haemophilus influenzae (strain ATCC 51907 / DS...</td>\n",
       "      <td>328</td>\n",
       "    </tr>\n",
       "    <tr>\n",
       "      <th>P44344</th>\n",
       "      <td>3</td>\n",
       "      <td>RL3_HAEIN 50S ribosomal protein L3</td>\n",
       "      <td>MIGLVGRKVGMTRIFNEDGVSVPVTVIEIEANRVTQVKTLENDGYT...</td>\n",
       "      <td>Haemophilus influenzae (strain ATCC 51907 / DS...</td>\n",
       "      <td>208</td>\n",
       "    </tr>\n",
       "    <tr>\n",
       "      <th>P44348</th>\n",
       "      <td>3</td>\n",
       "      <td>RL7_HAEIN 50S ribosomal protein L7/L12</td>\n",
       "      <td>MSLTNEQIIEAIASKTVTEIVELIAAMEEKFGVSAAAAVAAAPAAG...</td>\n",
       "      <td>Haemophilus influenzae (strain ATCC 51907 / DS...</td>\n",
       "      <td>123</td>\n",
       "    </tr>\n",
       "    <tr>\n",
       "      <th>P44360</th>\n",
       "      <td>3</td>\n",
       "      <td>RL22_HAEIN 50S ribosomal protein L22</td>\n",
       "      <td>METIAKHRYARTSAQKARLVADLIRGKKVAQALEILTFTNKKAAAL...</td>\n",
       "      <td>Haemophilus influenzae (strain ATCC 51907 / DS...</td>\n",
       "      <td>110</td>\n",
       "    </tr>\n",
       "    <tr>\n",
       "      <th>P44363</th>\n",
       "      <td>3</td>\n",
       "      <td>RL27_HAEIN 50S ribosomal protein L27</td>\n",
       "      <td>MATKKAGGSTRNGRDSEAKRLGVKRFGGESVLAGSIIVRQRGTKFH...</td>\n",
       "      <td>Haemophilus influenzae (strain ATCC 51907 / DS...</td>\n",
       "      <td>85</td>\n",
       "    </tr>\n",
       "    <tr>\n",
       "      <th>P44433</th>\n",
       "      <td>3</td>\n",
       "      <td>RLUC_HAEIN Ribosomal large subunit pseudouridi...</td>\n",
       "      <td>MTKQNEKIINSSVKMLTISEDESGQRIDNYLLAKLKGVPKSLIYRI...</td>\n",
       "      <td>Haemophilus influenzae (strain ATCC 51907 / DS...</td>\n",
       "      <td>322</td>\n",
       "    </tr>\n",
       "    <tr>\n",
       "      <th>Q57092</th>\n",
       "      <td>1</td>\n",
       "      <td>RLPA_HAEIN Endolytic peptidoglycan transglycos...</td>\n",
       "      <td>MKLKTGLNLTALLLFMISVAFPAQADTQKMYGIRGDNLSIATQMPA...</td>\n",
       "      <td>Haemophilus influenzae (strain ATCC 51907 / DS...</td>\n",
       "      <td>287</td>\n",
       "    </tr>\n",
       "    <tr>\n",
       "      <th>P44306</th>\n",
       "      <td>3</td>\n",
       "      <td>RNPA_HAEIN Ribonuclease P protein component</td>\n",
       "      <td>MVKLNFSRELRLLTPIQFKNVFEQPFRASTPEITILARKNNLEHPR...</td>\n",
       "      <td>Haemophilus influenzae (strain ATCC 51907 / DS...</td>\n",
       "      <td>119</td>\n",
       "    </tr>\n",
       "    <tr>\n",
       "      <th>P44725</th>\n",
       "      <td>1</td>\n",
       "      <td>RPIA_HAEIN Ribose-5-phosphate isomerase A</td>\n",
       "      <td>MNQLEMKKLAAQAALQYVKADTIVGVGSGSTVNCFIEALGTIKDKI...</td>\n",
       "      <td>Haemophilus influenzae (strain ATCC 51907 / DS...</td>\n",
       "      <td>219</td>\n",
       "    </tr>\n",
       "    <tr>\n",
       "      <th>P44827</th>\n",
       "      <td>3</td>\n",
       "      <td>RLUE_HAEIN Ribosomal large subunit pseudouridi...</td>\n",
       "      <td>MMLQAFQNRNHKLMKKNFSAGKLPSKGKSAVNFHRTFKPKLKPKTL...</td>\n",
       "      <td>Haemophilus influenzae (strain ATCC 51907 / DS...</td>\n",
       "      <td>240</td>\n",
       "    </tr>\n",
       "    <tr>\n",
       "      <th>P44733</th>\n",
       "      <td>3</td>\n",
       "      <td>RMUC_HAEIN DNA recombination protein RmuC homolog</td>\n",
       "      <td>MHQELSKTTQDYNQLASKFDELSSIKNQFEQQTIKVQTENQGLQYR...</td>\n",
       "      <td>Haemophilus influenzae (strain ATCC 51907 / DS...</td>\n",
       "      <td>450</td>\n",
       "    </tr>\n",
       "    <tr>\n",
       "      <th>P43739</th>\n",
       "      <td>3</td>\n",
       "      <td>RPOC_HAEIN DNA-directed RNA polymerase subunit...</td>\n",
       "      <td>MKDLVKFLKAQSKTSEDFDVIKIGLASPDMIRSWSFGEVKKPETIN...</td>\n",
       "      <td>Haemophilus influenzae (strain ATCC 51907 / DS...</td>\n",
       "      <td>1415</td>\n",
       "    </tr>\n",
       "    <tr>\n",
       "      <th>P71395</th>\n",
       "      <td>3</td>\n",
       "      <td>RNFA_HAEIN Ion-translocating oxidoreductase co...</td>\n",
       "      <td>MTHYILLIIGTALINNFVLVKFLGLCPFMGVSKKIETAVGMGLATM...</td>\n",
       "      <td>Haemophilus influenzae (strain ATCC 51907 / DS...</td>\n",
       "      <td>192</td>\n",
       "    </tr>\n",
       "    <tr>\n",
       "      <th>P44443</th>\n",
       "      <td>3</td>\n",
       "      <td>RNE_HAEIN Ribonuclease E</td>\n",
       "      <td>MKRMLINATQKEELRVALVDGQRLFDLDIESPGHEQKKANIYKGKI...</td>\n",
       "      <td>Haemophilus influenzae (strain ATCC 51907 / DS...</td>\n",
       "      <td>935</td>\n",
       "    </tr>\n",
       "    <tr>\n",
       "      <th>P71397</th>\n",
       "      <td>3</td>\n",
       "      <td>RNFC_HAEIN Ion-translocating oxidoreductase co...</td>\n",
       "      <td>MADVLSRFNSGKLWDFKGGIHPPEMKSQSNSQPLRHLPLGTDFYIP...</td>\n",
       "      <td>Haemophilus influenzae (strain ATCC 51907 / DS...</td>\n",
       "      <td>819</td>\n",
       "    </tr>\n",
       "    <tr>\n",
       "      <th>Q57020</th>\n",
       "      <td>3</td>\n",
       "      <td>RNFE_HAEIN Ion-translocating oxidoreductase co...</td>\n",
       "      <td>MTDLTEKNTALEEEKIESAVENQQKSIWKEIFAQGIWKNNPAVVQL...</td>\n",
       "      <td>Haemophilus influenzae (strain ATCC 51907 / DS...</td>\n",
       "      <td>235</td>\n",
       "    </tr>\n",
       "    <tr>\n",
       "      <th>P44291</th>\n",
       "      <td>3</td>\n",
       "      <td>RNFG_HAEIN Ion-translocating oxidoreductase co...</td>\n",
       "      <td>MGTVKITSRYGILLGFIALLCTIISAGIFFLTKDKIDAVIAAQQRE...</td>\n",
       "      <td>Haemophilus influenzae (strain ATCC 51907 / DS...</td>\n",
       "      <td>207</td>\n",
       "    </tr>\n",
       "    <tr>\n",
       "      <th>...</th>\n",
       "      <td>...</td>\n",
       "      <td>...</td>\n",
       "      <td>...</td>\n",
       "      <td>...</td>\n",
       "      <td>...</td>\n",
       "    </tr>\n",
       "    <tr>\n",
       "      <th>P44405</th>\n",
       "      <td>3</td>\n",
       "      <td>DDL_HAEIN D-alanine--D-alanine ligase</td>\n",
       "      <td>MNLKQEKIAVLLGGTSAEREVSLNSGKAVLEALLKQGYNAHPIDPK...</td>\n",
       "      <td>Haemophilus influenzae (strain ATCC 51907 / DS...</td>\n",
       "      <td>306</td>\n",
       "    </tr>\n",
       "    <tr>\n",
       "      <th>P44855</th>\n",
       "      <td>3</td>\n",
       "      <td>DCUB_HAEIN Anaerobic C4-dicarboxylate transpor...</td>\n",
       "      <td>MSAMFLLQFAIVLLCIFVGARVGGIGLGVFGGLGLAILSFGFGLKP...</td>\n",
       "      <td>Haemophilus influenzae (strain ATCC 51907 / DS...</td>\n",
       "      <td>440</td>\n",
       "    </tr>\n",
       "    <tr>\n",
       "      <th>P43776</th>\n",
       "      <td>3</td>\n",
       "      <td>DHPS_HAEIN Dihydropteroate synthase</td>\n",
       "      <td>MKLYANNKCLDLSVPQIMGILNFTPDSFSDSGQFFSLDKALFQVEK...</td>\n",
       "      <td>Haemophilus influenzae (strain ATCC 51907 / DS...</td>\n",
       "      <td>275</td>\n",
       "    </tr>\n",
       "    <tr>\n",
       "      <th>P45284</th>\n",
       "      <td>3</td>\n",
       "      <td>DAPD_HAEIN 2,3,4,5-tetrahydropyridine-2,6-dica...</td>\n",
       "      <td>MSNLQAIIEAAFEKRAEITPKTVDAETRAAIEEVIEGLDSGKYRVA...</td>\n",
       "      <td>Haemophilus influenzae (strain ATCC 51907 / DS...</td>\n",
       "      <td>275</td>\n",
       "    </tr>\n",
       "    <tr>\n",
       "      <th>P44947</th>\n",
       "      <td>3</td>\n",
       "      <td>DEGS_HAEIN Serine endoprotease DegS</td>\n",
       "      <td>MLKKLFHSALWGLAAAGVILFAVPRLNNSNIFTSDDIISFKNAVRI...</td>\n",
       "      <td>Haemophilus influenzae (strain ATCC 51907 / DS...</td>\n",
       "      <td>340</td>\n",
       "    </tr>\n",
       "    <tr>\n",
       "      <th>P43742</th>\n",
       "      <td>3</td>\n",
       "      <td>DNAA_HAEIN Chromosomal replication initiator p...</td>\n",
       "      <td>MNLSNLWQSCLLQLQDQVSASDLSTWLRPLQADVVADNHIVLYASN...</td>\n",
       "      <td>Haemophilus influenzae (strain ATCC 51907 / DS...</td>\n",
       "      <td>454</td>\n",
       "    </tr>\n",
       "    <tr>\n",
       "      <th>P43735</th>\n",
       "      <td>3</td>\n",
       "      <td>DNAJ_HAEIN Chaperone protein DnaJ</td>\n",
       "      <td>MAKKDYYEVLGLQKGASEDEIKRAYKRLASKHHPDKNQGSKEAEEK...</td>\n",
       "      <td>Haemophilus influenzae (strain ATCC 51907 / DS...</td>\n",
       "      <td>382</td>\n",
       "    </tr>\n",
       "    <tr>\n",
       "      <th>P43784</th>\n",
       "      <td>3</td>\n",
       "      <td>DLDH_HAEIN Dihydrolipoyl dehydrogenase</td>\n",
       "      <td>MSKEIKTQVVVLGAGPAGYSAAFRCADLGLETVIVERYSTLGGVCL...</td>\n",
       "      <td>Haemophilus influenzae (strain ATCC 51907 / DS...</td>\n",
       "      <td>478</td>\n",
       "    </tr>\n",
       "    <tr>\n",
       "      <th>Q08346</th>\n",
       "      <td>3</td>\n",
       "      <td>DNAG_HAEIN DNA primase</td>\n",
       "      <td>MKGSIPRPFIDDLLTKSDIVDVINTRVKLKKAGRDYQACCPFHHEK...</td>\n",
       "      <td>Haemophilus influenzae (strain ATCC 51907 / DS...</td>\n",
       "      <td>593</td>\n",
       "    </tr>\n",
       "    <tr>\n",
       "      <th>P45061</th>\n",
       "      <td>3</td>\n",
       "      <td>MURF_HAEIN UDP-N-acetylmuramoyl-tripeptide--D-...</td>\n",
       "      <td>MIKLSTVQLAQILQAKLIGDENVQVEKINTDTRKSVSNSLFFALKG...</td>\n",
       "      <td>Haemophilus influenzae (strain ATCC 51907 / DS...</td>\n",
       "      <td>457</td>\n",
       "    </tr>\n",
       "    <tr>\n",
       "      <th>P45065</th>\n",
       "      <td>3</td>\n",
       "      <td>MURG_HAEIN UDP-N-acetylglucosamine--N-acetylmu...</td>\n",
       "      <td>MKNKKLLVMAGGTGGHVFPAIAVAQTLQKQEWDICWLGTKDRMEAQ...</td>\n",
       "      <td>Haemophilus influenzae (strain ATCC 51907 / DS...</td>\n",
       "      <td>351</td>\n",
       "    </tr>\n",
       "    <tr>\n",
       "      <th>P44834</th>\n",
       "      <td>3</td>\n",
       "      <td>MUTS_HAEIN DNA mismatch repair protein MutS</td>\n",
       "      <td>MISEENFQQHTPMMQQYLKLKAENPDILLFYRMGDFYELFYDDAKK...</td>\n",
       "      <td>Haemophilus influenzae (strain ATCC 51907 / DS...</td>\n",
       "      <td>861</td>\n",
       "    </tr>\n",
       "    <tr>\n",
       "      <th>P44862</th>\n",
       "      <td>1</td>\n",
       "      <td>MURQ_HAEIN N-acetylmuramic acid 6-phosphate et...</td>\n",
       "      <td>MNDIILKSLSTLITEQRNPNSVDIDRQSTLEIVRLMNEEDKLVPLA...</td>\n",
       "      <td>Haemophilus influenzae (strain ATCC 51907 / DS...</td>\n",
       "      <td>303</td>\n",
       "    </tr>\n",
       "    <tr>\n",
       "      <th>P44494</th>\n",
       "      <td>3</td>\n",
       "      <td>MUTL_HAEIN DNA mismatch repair protein MutL</td>\n",
       "      <td>MPIKILSPQLANQIAAGEVVERPASVVKELVENSLDAGANKIQIDI...</td>\n",
       "      <td>Haemophilus influenzae (strain ATCC 51907 / DS...</td>\n",
       "      <td>629</td>\n",
       "    </tr>\n",
       "    <tr>\n",
       "      <th>P44320</th>\n",
       "      <td>3</td>\n",
       "      <td>MUTY_HAEIN Adenine DNA glycosylase</td>\n",
       "      <td>MLAKSSINAPFAKSVLAWYDKFGRKHLPWQQNKTLYGVWLSEVMLQ...</td>\n",
       "      <td>Haemophilus influenzae (strain ATCC 51907 / DS...</td>\n",
       "      <td>378</td>\n",
       "    </tr>\n",
       "    <tr>\n",
       "      <th>P44541</th>\n",
       "      <td>1</td>\n",
       "      <td>NANK_HAEIN N-acetylmannosamine kinase</td>\n",
       "      <td>MRCLALDIGGTKIAAAIVKNGEIEQRQQIHTPRENVVEGMHQALGK...</td>\n",
       "      <td>Haemophilus influenzae (strain ATCC 51907 / DS...</td>\n",
       "      <td>300</td>\n",
       "    </tr>\n",
       "    <tr>\n",
       "      <th>P44538</th>\n",
       "      <td>3</td>\n",
       "      <td>NAGB_HAEIN Glucosamine-6-phosphate deaminase</td>\n",
       "      <td>MRFIPLQTEQQVSCWAAQHIINRINDFKPTAERPFVLGLPTGGTPL...</td>\n",
       "      <td>Haemophilus influenzae (strain ATCC 51907 / DS...</td>\n",
       "      <td>270</td>\n",
       "    </tr>\n",
       "    <tr>\n",
       "      <th>P44955</th>\n",
       "      <td>3</td>\n",
       "      <td>NAGZ_HAEIN Beta-hexosaminidase</td>\n",
       "      <td>MSSLLIDLKGKELEQEEVELLSHPLVAGLILFTRNFENREQIQELI...</td>\n",
       "      <td>Haemophilus influenzae (strain ATCC 51907 / DS...</td>\n",
       "      <td>351</td>\n",
       "    </tr>\n",
       "    <tr>\n",
       "      <th>P71340</th>\n",
       "      <td>3</td>\n",
       "      <td>NANE_HAEIN Putative N-acetylmannosamine-6-phos...</td>\n",
       "      <td>MSKLSYQEVLSQIQYGLISSCQPVDDGPMDKPEIVSAMAQASVMGG...</td>\n",
       "      <td>Haemophilus influenzae (strain ATCC 51907 / DS...</td>\n",
       "      <td>228</td>\n",
       "    </tr>\n",
       "    <tr>\n",
       "      <th>P44652</th>\n",
       "      <td>3</td>\n",
       "      <td>NAPG_HAEIN Ferredoxin-type protein NapG</td>\n",
       "      <td>MKVRLKSKKKMKKPALNPERRKFLKEATRTAGGLAGVGILLGLQQN...</td>\n",
       "      <td>Haemophilus influenzae (strain ATCC 51907 / DS...</td>\n",
       "      <td>279</td>\n",
       "    </tr>\n",
       "    <tr>\n",
       "      <th>P44544</th>\n",
       "      <td>1</td>\n",
       "      <td>NANM_HAEIN N-acetylneuraminate epimerase</td>\n",
       "      <td>MKLTKTALCTALFATFTFSANAQTYPDLPVGIKGGTGALIGDTVYV...</td>\n",
       "      <td>Haemophilus influenzae (strain ATCC 51907 / DS...</td>\n",
       "      <td>375</td>\n",
       "    </tr>\n",
       "    <tr>\n",
       "      <th>P44650</th>\n",
       "      <td>3</td>\n",
       "      <td>NAPF_HAEIN Ferredoxin-type protein NapF</td>\n",
       "      <td>MTVENLPRRQFLRGKFSTLSCLENNQKQNFVGIRPPWSVENSIFVA...</td>\n",
       "      <td>Haemophilus influenzae (strain ATCC 51907 / DS...</td>\n",
       "      <td>176</td>\n",
       "    </tr>\n",
       "    <tr>\n",
       "      <th>P44604</th>\n",
       "      <td>3</td>\n",
       "      <td>NARQ_HAEIN Sensor protein NarQ homolog</td>\n",
       "      <td>MYTKGSVSTRIAKYLFIILIVAGVISSLSLAIMSSNKYDAEAINIS...</td>\n",
       "      <td>Haemophilus influenzae (strain ATCC 51907 / DS...</td>\n",
       "      <td>567</td>\n",
       "    </tr>\n",
       "    <tr>\n",
       "      <th>P44932</th>\n",
       "      <td>3</td>\n",
       "      <td>MUTT_HAEIN 8-oxo-dGTP diphosphatase</td>\n",
       "      <td>MDKKIIQVAAGIIRNEFGQIYLTQRLEGQDFAQSLEFPGGKVDAGE...</td>\n",
       "      <td>Haemophilus influenzae (strain ATCC 51907 / DS...</td>\n",
       "      <td>136</td>\n",
       "    </tr>\n",
       "    <tr>\n",
       "      <th>P44958</th>\n",
       "      <td>3</td>\n",
       "      <td>MURJ_HAEIN Probable lipid II flippase MurJ</td>\n",
       "      <td>MTLLSRVLGLVRDVVIAHLIGAGAAADVFLFANRIPNFLRRLFAEG...</td>\n",
       "      <td>Haemophilus influenzae (strain ATCC 51907 / DS...</td>\n",
       "      <td>510</td>\n",
       "    </tr>\n",
       "    <tr>\n",
       "      <th>P45056</th>\n",
       "      <td>3</td>\n",
       "      <td>MRAZ_HAEIN Transcriptional regulator MraZ</td>\n",
       "      <td>MFRGATAVNLDSKGRVAIPTRYRAEILEKNQGQMVCTVDIRQSCLL...</td>\n",
       "      <td>Haemophilus influenzae (strain ATCC 51907 / DS...</td>\n",
       "      <td>151</td>\n",
       "    </tr>\n",
       "    <tr>\n",
       "      <th>P44407</th>\n",
       "      <td>3</td>\n",
       "      <td>MSBA_HAEIN Lipid A export ATP-binding/permease...</td>\n",
       "      <td>MQEQKLQENDFSTLQTFKRLWPMIKPFKAGLIVSGVALVFNALADS...</td>\n",
       "      <td>Haemophilus influenzae (strain ATCC 51907 / DS...</td>\n",
       "      <td>587</td>\n",
       "    </tr>\n",
       "    <tr>\n",
       "      <th>P44789</th>\n",
       "      <td>3</td>\n",
       "      <td>MSCL_HAEIN Large-conductance mechanosensitive ...</td>\n",
       "      <td>MNFIKEFREFAMRGNVVDMAVGVIIGSAFGKIVSSLVSDIFTPVLG...</td>\n",
       "      <td>Haemophilus influenzae (strain ATCC 51907 / DS...</td>\n",
       "      <td>128</td>\n",
       "    </tr>\n",
       "    <tr>\n",
       "      <th>P44688</th>\n",
       "      <td>1</td>\n",
       "      <td>MUTH_HAEIN DNA mismatch repair protein MutH</td>\n",
       "      <td>MIPQTLEQLLSQAQSIAGLTFGELADELHIPVPIDLKRDKGWVGML...</td>\n",
       "      <td>Haemophilus influenzae (strain ATCC 51907 / DS...</td>\n",
       "      <td>223</td>\n",
       "    </tr>\n",
       "    <tr>\n",
       "      <th>P45060</th>\n",
       "      <td>3</td>\n",
       "      <td>MURE_HAEIN UDP-N-acetylmuramoyl-L-alanyl-D-glu...</td>\n",
       "      <td>MKKLTALFNLPELKNDIELHNMVLDSRKVKAGDLFVAIKGHQVDGN...</td>\n",
       "      <td>Haemophilus influenzae (strain ATCC 51907 / DS...</td>\n",
       "      <td>488</td>\n",
       "    </tr>\n",
       "  </tbody>\n",
       "</table>\n",
       "<p>1707 rows × 5 columns</p>\n",
       "</div>"
      ],
      "text/plain": [
       "        PE                                               desc  \\\n",
       "AC                                                              \n",
       "P44345   3                 RL4_HAEIN 50S ribosomal protein L4   \n",
       "P43738   3  RPOB_HAEIN DNA-directed RNA polymerase subunit...   \n",
       "P31777   1  RLMJ_HAEIN Ribosomal RNA large subunit methylt...   \n",
       "P44359   3               RL21_HAEIN 50S ribosomal protein L21   \n",
       "P44343   3                 RL2_HAEIN 50S ribosomal protein L2   \n",
       "P44756   3           RPE_HAEIN Ribulose-phosphate 3-epimerase   \n",
       "P44346   3                 RL5_HAEIN 50S ribosomal protein L5   \n",
       "P44347   3                 RL6_HAEIN 50S ribosomal protein L6   \n",
       "P44083   3  RLMC_HAEIN 23S rRNA (uracil(747)-C(5))-methylt...   \n",
       "P44906   1  RLMB_HAEIN 23S rRNA (guanosine-2'-O-)-methyltr...   \n",
       "P44349   3                 RL9_HAEIN 50S ribosomal protein L9   \n",
       "P44643   3  RLMD_HAEIN 23S rRNA (uracil(1939)-C(5))-methyl...   \n",
       "P46361   3               RL36_HAEIN 50S ribosomal protein L36   \n",
       "P43737   3  RPOA_HAEIN DNA-directed RNA polymerase subunit...   \n",
       "P44344   3                 RL3_HAEIN 50S ribosomal protein L3   \n",
       "P44348   3             RL7_HAEIN 50S ribosomal protein L7/L12   \n",
       "P44360   3               RL22_HAEIN 50S ribosomal protein L22   \n",
       "P44363   3               RL27_HAEIN 50S ribosomal protein L27   \n",
       "P44433   3  RLUC_HAEIN Ribosomal large subunit pseudouridi...   \n",
       "Q57092   1  RLPA_HAEIN Endolytic peptidoglycan transglycos...   \n",
       "P44306   3        RNPA_HAEIN Ribonuclease P protein component   \n",
       "P44725   1          RPIA_HAEIN Ribose-5-phosphate isomerase A   \n",
       "P44827   3  RLUE_HAEIN Ribosomal large subunit pseudouridi...   \n",
       "P44733   3  RMUC_HAEIN DNA recombination protein RmuC homolog   \n",
       "P43739   3  RPOC_HAEIN DNA-directed RNA polymerase subunit...   \n",
       "P71395   3  RNFA_HAEIN Ion-translocating oxidoreductase co...   \n",
       "P44443   3                           RNE_HAEIN Ribonuclease E   \n",
       "P71397   3  RNFC_HAEIN Ion-translocating oxidoreductase co...   \n",
       "Q57020   3  RNFE_HAEIN Ion-translocating oxidoreductase co...   \n",
       "P44291   3  RNFG_HAEIN Ion-translocating oxidoreductase co...   \n",
       "...     ..                                                ...   \n",
       "P44405   3              DDL_HAEIN D-alanine--D-alanine ligase   \n",
       "P44855   3  DCUB_HAEIN Anaerobic C4-dicarboxylate transpor...   \n",
       "P43776   3                DHPS_HAEIN Dihydropteroate synthase   \n",
       "P45284   3  DAPD_HAEIN 2,3,4,5-tetrahydropyridine-2,6-dica...   \n",
       "P44947   3                DEGS_HAEIN Serine endoprotease DegS   \n",
       "P43742   3  DNAA_HAEIN Chromosomal replication initiator p...   \n",
       "P43735   3                  DNAJ_HAEIN Chaperone protein DnaJ   \n",
       "P43784   3             DLDH_HAEIN Dihydrolipoyl dehydrogenase   \n",
       "Q08346   3                             DNAG_HAEIN DNA primase   \n",
       "P45061   3  MURF_HAEIN UDP-N-acetylmuramoyl-tripeptide--D-...   \n",
       "P45065   3  MURG_HAEIN UDP-N-acetylglucosamine--N-acetylmu...   \n",
       "P44834   3        MUTS_HAEIN DNA mismatch repair protein MutS   \n",
       "P44862   1  MURQ_HAEIN N-acetylmuramic acid 6-phosphate et...   \n",
       "P44494   3        MUTL_HAEIN DNA mismatch repair protein MutL   \n",
       "P44320   3                 MUTY_HAEIN Adenine DNA glycosylase   \n",
       "P44541   1              NANK_HAEIN N-acetylmannosamine kinase   \n",
       "P44538   3       NAGB_HAEIN Glucosamine-6-phosphate deaminase   \n",
       "P44955   3                     NAGZ_HAEIN Beta-hexosaminidase   \n",
       "P71340   3  NANE_HAEIN Putative N-acetylmannosamine-6-phos...   \n",
       "P44652   3            NAPG_HAEIN Ferredoxin-type protein NapG   \n",
       "P44544   1           NANM_HAEIN N-acetylneuraminate epimerase   \n",
       "P44650   3            NAPF_HAEIN Ferredoxin-type protein NapF   \n",
       "P44604   3             NARQ_HAEIN Sensor protein NarQ homolog   \n",
       "P44932   3                MUTT_HAEIN 8-oxo-dGTP diphosphatase   \n",
       "P44958   3         MURJ_HAEIN Probable lipid II flippase MurJ   \n",
       "P45056   3          MRAZ_HAEIN Transcriptional regulator MraZ   \n",
       "P44407   3  MSBA_HAEIN Lipid A export ATP-binding/permease...   \n",
       "P44789   3  MSCL_HAEIN Large-conductance mechanosensitive ...   \n",
       "P44688   1        MUTH_HAEIN DNA mismatch repair protein MutH   \n",
       "P45060   3  MURE_HAEIN UDP-N-acetylmuramoyl-L-alanyl-D-glu...   \n",
       "\n",
       "                                                      seq  \\\n",
       "AC                                                          \n",
       "P44345  MELQVVGANALTVSETTFGREFNEALIHQVVVAYAAGARQGTRAQK...   \n",
       "P43738  MGYSYSEKKRIRKDFGKRPQVLNVPYLLTIQLDSFDKFIQKDPEGQ...   \n",
       "P31777  MLSYHHSFHAGNHADVLKHIVLMLILENLKLKEKGFFYLDTHSGVG...   \n",
       "P44359  MYAVFQSGGKQHRVSEGQVVRLEKLELATGATVEFDSXLMVVNGED...   \n",
       "P44343  MAIVKCKPTSAGRRHVVKIVNPELHKGKPYAPLLDTKSKTGGRNNY...   \n",
       "P44756  MKPYLIAPSILSADLARLGDDVQNVLNAGADVIHFDVMDNHYVPNL...   \n",
       "P44346  MAKLHDYYRDQVVSELKNKFGYKSVMQVPRIEKITLNMGVGEALTD...   \n",
       "P44347  MSRVAKAPVNIPAGVEVKLDGQLLTVKGKNGELSRKIHESVEVKQD...   \n",
       "P44083  MIDCRYYQQNECRSCQWLEIPCSQQLTEKQYHLKQQLISINYDEAQ...   \n",
       "P44906  MSEQIYGIHAVNSILTHSPERLIEVFVLKGREDKRLQPLLNELYSL...   \n",
       "P44349  MQVILLDKIVHLGQVGDQVNVKSGFARNFLIPQGKAVMATKANIEH...   \n",
       "P44643  MVLLYTPKQKTKNVQTITADILDLDYQGLGVAKINGKTWFIENALP...   \n",
       "P46361              MKVRASVKKMCRNCKIVKREGVVRVLCSDPKHKQRQG   \n",
       "P43737  MQGSVTEFLKPRLVDIEQISSTHAKVILEPLERGFGHTLGNALRRI...   \n",
       "P44344  MIGLVGRKVGMTRIFNEDGVSVPVTVIEIEANRVTQVKTLENDGYT...   \n",
       "P44348  MSLTNEQIIEAIASKTVTEIVELIAAMEEKFGVSAAAAVAAAPAAG...   \n",
       "P44360  METIAKHRYARTSAQKARLVADLIRGKKVAQALEILTFTNKKAAAL...   \n",
       "P44363  MATKKAGGSTRNGRDSEAKRLGVKRFGGESVLAGSIIVRQRGTKFH...   \n",
       "P44433  MTKQNEKIINSSVKMLTISEDESGQRIDNYLLAKLKGVPKSLIYRI...   \n",
       "Q57092  MKLKTGLNLTALLLFMISVAFPAQADTQKMYGIRGDNLSIATQMPA...   \n",
       "P44306  MVKLNFSRELRLLTPIQFKNVFEQPFRASTPEITILARKNNLEHPR...   \n",
       "P44725  MNQLEMKKLAAQAALQYVKADTIVGVGSGSTVNCFIEALGTIKDKI...   \n",
       "P44827  MMLQAFQNRNHKLMKKNFSAGKLPSKGKSAVNFHRTFKPKLKPKTL...   \n",
       "P44733  MHQELSKTTQDYNQLASKFDELSSIKNQFEQQTIKVQTENQGLQYR...   \n",
       "P43739  MKDLVKFLKAQSKTSEDFDVIKIGLASPDMIRSWSFGEVKKPETIN...   \n",
       "P71395  MTHYILLIIGTALINNFVLVKFLGLCPFMGVSKKIETAVGMGLATM...   \n",
       "P44443  MKRMLINATQKEELRVALVDGQRLFDLDIESPGHEQKKANIYKGKI...   \n",
       "P71397  MADVLSRFNSGKLWDFKGGIHPPEMKSQSNSQPLRHLPLGTDFYIP...   \n",
       "Q57020  MTDLTEKNTALEEEKIESAVENQQKSIWKEIFAQGIWKNNPAVVQL...   \n",
       "P44291  MGTVKITSRYGILLGFIALLCTIISAGIFFLTKDKIDAVIAAQQRE...   \n",
       "...                                                   ...   \n",
       "P44405  MNLKQEKIAVLLGGTSAEREVSLNSGKAVLEALLKQGYNAHPIDPK...   \n",
       "P44855  MSAMFLLQFAIVLLCIFVGARVGGIGLGVFGGLGLAILSFGFGLKP...   \n",
       "P43776  MKLYANNKCLDLSVPQIMGILNFTPDSFSDSGQFFSLDKALFQVEK...   \n",
       "P45284  MSNLQAIIEAAFEKRAEITPKTVDAETRAAIEEVIEGLDSGKYRVA...   \n",
       "P44947  MLKKLFHSALWGLAAAGVILFAVPRLNNSNIFTSDDIISFKNAVRI...   \n",
       "P43742  MNLSNLWQSCLLQLQDQVSASDLSTWLRPLQADVVADNHIVLYASN...   \n",
       "P43735  MAKKDYYEVLGLQKGASEDEIKRAYKRLASKHHPDKNQGSKEAEEK...   \n",
       "P43784  MSKEIKTQVVVLGAGPAGYSAAFRCADLGLETVIVERYSTLGGVCL...   \n",
       "Q08346  MKGSIPRPFIDDLLTKSDIVDVINTRVKLKKAGRDYQACCPFHHEK...   \n",
       "P45061  MIKLSTVQLAQILQAKLIGDENVQVEKINTDTRKSVSNSLFFALKG...   \n",
       "P45065  MKNKKLLVMAGGTGGHVFPAIAVAQTLQKQEWDICWLGTKDRMEAQ...   \n",
       "P44834  MISEENFQQHTPMMQQYLKLKAENPDILLFYRMGDFYELFYDDAKK...   \n",
       "P44862  MNDIILKSLSTLITEQRNPNSVDIDRQSTLEIVRLMNEEDKLVPLA...   \n",
       "P44494  MPIKILSPQLANQIAAGEVVERPASVVKELVENSLDAGANKIQIDI...   \n",
       "P44320  MLAKSSINAPFAKSVLAWYDKFGRKHLPWQQNKTLYGVWLSEVMLQ...   \n",
       "P44541  MRCLALDIGGTKIAAAIVKNGEIEQRQQIHTPRENVVEGMHQALGK...   \n",
       "P44538  MRFIPLQTEQQVSCWAAQHIINRINDFKPTAERPFVLGLPTGGTPL...   \n",
       "P44955  MSSLLIDLKGKELEQEEVELLSHPLVAGLILFTRNFENREQIQELI...   \n",
       "P71340  MSKLSYQEVLSQIQYGLISSCQPVDDGPMDKPEIVSAMAQASVMGG...   \n",
       "P44652  MKVRLKSKKKMKKPALNPERRKFLKEATRTAGGLAGVGILLGLQQN...   \n",
       "P44544  MKLTKTALCTALFATFTFSANAQTYPDLPVGIKGGTGALIGDTVYV...   \n",
       "P44650  MTVENLPRRQFLRGKFSTLSCLENNQKQNFVGIRPPWSVENSIFVA...   \n",
       "P44604  MYTKGSVSTRIAKYLFIILIVAGVISSLSLAIMSSNKYDAEAINIS...   \n",
       "P44932  MDKKIIQVAAGIIRNEFGQIYLTQRLEGQDFAQSLEFPGGKVDAGE...   \n",
       "P44958  MTLLSRVLGLVRDVVIAHLIGAGAAADVFLFANRIPNFLRRLFAEG...   \n",
       "P45056  MFRGATAVNLDSKGRVAIPTRYRAEILEKNQGQMVCTVDIRQSCLL...   \n",
       "P44407  MQEQKLQENDFSTLQTFKRLWPMIKPFKAGLIVSGVALVFNALADS...   \n",
       "P44789  MNFIKEFREFAMRGNVVDMAVGVIIGSAFGKIVSSLVSDIFTPVLG...   \n",
       "P44688  MIPQTLEQLLSQAQSIAGLTFGELADELHIPVPIDLKRDKGWVGML...   \n",
       "P45060  MKKLTALFNLPELKNDIELHNMVLDSRKVKAGDLFVAIKGHQVDGN...   \n",
       "\n",
       "                                                  species     n  \n",
       "AC                                                               \n",
       "P44345  Haemophilus influenzae (strain ATCC 51907 / DS...   200  \n",
       "P43738  Haemophilus influenzae (strain ATCC 51907 / DS...  1343  \n",
       "P31777  Haemophilus influenzae (strain ATCC 51907 / DS...   281  \n",
       "P44359  Haemophilus influenzae (strain ATCC 51907 / DS...   103  \n",
       "P44343  Haemophilus influenzae (strain ATCC 51907 / DS...   273  \n",
       "P44756  Haemophilus influenzae (strain ATCC 51907 / DS...   224  \n",
       "P44346  Haemophilus influenzae (strain ATCC 51907 / DS...   179  \n",
       "P44347  Haemophilus influenzae (strain ATCC 51907 / DS...   177  \n",
       "P44083  Haemophilus influenzae (strain ATCC 51907 / DS...   392  \n",
       "P44906  Haemophilus influenzae (strain ATCC 51907 / DS...   246  \n",
       "P44349  Haemophilus influenzae (strain ATCC 51907 / DS...   149  \n",
       "P44643  Haemophilus influenzae (strain ATCC 51907 / DS...   438  \n",
       "P46361  Haemophilus influenzae (strain ATCC 51907 / DS...    37  \n",
       "P43737  Haemophilus influenzae (strain ATCC 51907 / DS...   328  \n",
       "P44344  Haemophilus influenzae (strain ATCC 51907 / DS...   208  \n",
       "P44348  Haemophilus influenzae (strain ATCC 51907 / DS...   123  \n",
       "P44360  Haemophilus influenzae (strain ATCC 51907 / DS...   110  \n",
       "P44363  Haemophilus influenzae (strain ATCC 51907 / DS...    85  \n",
       "P44433  Haemophilus influenzae (strain ATCC 51907 / DS...   322  \n",
       "Q57092  Haemophilus influenzae (strain ATCC 51907 / DS...   287  \n",
       "P44306  Haemophilus influenzae (strain ATCC 51907 / DS...   119  \n",
       "P44725  Haemophilus influenzae (strain ATCC 51907 / DS...   219  \n",
       "P44827  Haemophilus influenzae (strain ATCC 51907 / DS...   240  \n",
       "P44733  Haemophilus influenzae (strain ATCC 51907 / DS...   450  \n",
       "P43739  Haemophilus influenzae (strain ATCC 51907 / DS...  1415  \n",
       "P71395  Haemophilus influenzae (strain ATCC 51907 / DS...   192  \n",
       "P44443  Haemophilus influenzae (strain ATCC 51907 / DS...   935  \n",
       "P71397  Haemophilus influenzae (strain ATCC 51907 / DS...   819  \n",
       "Q57020  Haemophilus influenzae (strain ATCC 51907 / DS...   235  \n",
       "P44291  Haemophilus influenzae (strain ATCC 51907 / DS...   207  \n",
       "...                                                   ...   ...  \n",
       "P44405  Haemophilus influenzae (strain ATCC 51907 / DS...   306  \n",
       "P44855  Haemophilus influenzae (strain ATCC 51907 / DS...   440  \n",
       "P43776  Haemophilus influenzae (strain ATCC 51907 / DS...   275  \n",
       "P45284  Haemophilus influenzae (strain ATCC 51907 / DS...   275  \n",
       "P44947  Haemophilus influenzae (strain ATCC 51907 / DS...   340  \n",
       "P43742  Haemophilus influenzae (strain ATCC 51907 / DS...   454  \n",
       "P43735  Haemophilus influenzae (strain ATCC 51907 / DS...   382  \n",
       "P43784  Haemophilus influenzae (strain ATCC 51907 / DS...   478  \n",
       "Q08346  Haemophilus influenzae (strain ATCC 51907 / DS...   593  \n",
       "P45061  Haemophilus influenzae (strain ATCC 51907 / DS...   457  \n",
       "P45065  Haemophilus influenzae (strain ATCC 51907 / DS...   351  \n",
       "P44834  Haemophilus influenzae (strain ATCC 51907 / DS...   861  \n",
       "P44862  Haemophilus influenzae (strain ATCC 51907 / DS...   303  \n",
       "P44494  Haemophilus influenzae (strain ATCC 51907 / DS...   629  \n",
       "P44320  Haemophilus influenzae (strain ATCC 51907 / DS...   378  \n",
       "P44541  Haemophilus influenzae (strain ATCC 51907 / DS...   300  \n",
       "P44538  Haemophilus influenzae (strain ATCC 51907 / DS...   270  \n",
       "P44955  Haemophilus influenzae (strain ATCC 51907 / DS...   351  \n",
       "P71340  Haemophilus influenzae (strain ATCC 51907 / DS...   228  \n",
       "P44652  Haemophilus influenzae (strain ATCC 51907 / DS...   279  \n",
       "P44544  Haemophilus influenzae (strain ATCC 51907 / DS...   375  \n",
       "P44650  Haemophilus influenzae (strain ATCC 51907 / DS...   176  \n",
       "P44604  Haemophilus influenzae (strain ATCC 51907 / DS...   567  \n",
       "P44932  Haemophilus influenzae (strain ATCC 51907 / DS...   136  \n",
       "P44958  Haemophilus influenzae (strain ATCC 51907 / DS...   510  \n",
       "P45056  Haemophilus influenzae (strain ATCC 51907 / DS...   151  \n",
       "P44407  Haemophilus influenzae (strain ATCC 51907 / DS...   587  \n",
       "P44789  Haemophilus influenzae (strain ATCC 51907 / DS...   128  \n",
       "P44688  Haemophilus influenzae (strain ATCC 51907 / DS...   223  \n",
       "P45060  Haemophilus influenzae (strain ATCC 51907 / DS...   488  \n",
       "\n",
       "[1707 rows x 5 columns]"
      ]
     },
     "execution_count": 27,
     "metadata": {},
     "output_type": "execute_result"
    }
   ],
   "source": [
    "# precisamos de ter uma coluna com os comprimentos das proteínas\n",
    "ncol = hinfluenzae['seq'].str.len()\n",
    "hinfluenzae['n'] = ncol\n",
    "\n",
    "hinfluenzae"
   ]
  },
  {
   "cell_type": "code",
   "execution_count": 28,
   "metadata": {},
   "outputs": [
    {
     "name": "stdout",
     "output_type": "stream",
     "text": [
      "P44969 tem 1694 aminoácidos\n",
      "IGA0_HAEIN Immunoglobulin A1 protease autotransporter\n"
     ]
    }
   ],
   "source": [
    "# 9.1\n",
    "largest = hinfluenzae['n'].idxmax()\n",
    "\n",
    "print(largest, 'tem', hinfluenzae.loc[largest]['n'], 'aminoácidos')\n",
    "print(hinfluenzae.loc[largest]['desc'])"
   ]
  },
  {
   "cell_type": "code",
   "execution_count": 29,
   "metadata": {},
   "outputs": [
    {
     "name": "stdout",
     "output_type": "stream",
     "text": [
      "Média: 309.1277094317516\n",
      "Desvio padrão: 204.80655980662925\n"
     ]
    }
   ],
   "source": [
    "# 9.2\n",
    "print('Média:', hinfluenzae['n'].mean())\n",
    "print('Desvio padrão:', hinfluenzae['n'].std())"
   ]
  },
  {
   "cell_type": "code",
   "execution_count": 30,
   "metadata": {},
   "outputs": [],
   "source": [
    "# não esquecer este comando dos Jupyter notebooks\n",
    "%matplotlib inline"
   ]
  },
  {
   "cell_type": "code",
   "execution_count": 31,
   "metadata": {},
   "outputs": [
    {
     "data": {
      "image/png": "[encoded data removed]",
      "text/plain": [
       "<Figure size 648x432 with 1 Axes>"
      ]
     },
     "metadata": {
      "needs_background": "light"
     },
     "output_type": "display_data"
    }
   ],
   "source": [
    "# 9.3\n",
    "h = hinfluenzae['n'].hist(bins=100, figsize=(9,6))"
   ]
  },
  {
   "cell_type": "code",
   "execution_count": 32,
   "metadata": {},
   "outputs": [
    {
     "data": {
      "text/plain": [
       "1     276\n",
       "2       4\n",
       "3    1154\n",
       "4     257\n",
       "5      16\n",
       "Name: PE, dtype: int64"
      ]
     },
     "execution_count": 32,
     "metadata": {},
     "output_type": "execute_result"
    }
   ],
   "source": [
    "# 9.4\n",
    "\n",
    "countsPE = hinfluenzae['PE'].value_counts(sort=False)\n",
    "countsPE"
   ]
  },
  {
   "cell_type": "code",
   "execution_count": 33,
   "metadata": {},
   "outputs": [
    {
     "data": {
      "text/plain": [
       "1- Experimental (protein)        276\n",
       "2- Experimental (transcript)       4\n",
       "3- Inferred from homology       1154\n",
       "4- Protein predicted             257\n",
       "5 -Protein uncertain              16\n",
       "Name: PE, dtype: int64"
      ]
     },
     "execution_count": 33,
     "metadata": {},
     "output_type": "execute_result"
    }
   ],
   "source": [
    "# 9.4\n",
    "\n",
    "# De https://www.uniprot.org/help/protein_existence:\n",
    "\n",
    "# 1. Experimental evidence at protein level\n",
    "# 2. Experimental evidence at transcript level\n",
    "# 3. Protein inferred from homology\n",
    "# 4. Protein predicted\n",
    "# 5. Protein uncertain\n",
    "\n",
    "countsPE = hinfluenzae['PE'].value_counts(sort=False)\n",
    "\n",
    "countsPE = countsPE.rename(index={1:'1- Experimental (protein)',\n",
    "                                  2:'2- Experimental (transcript)',\n",
    "                                  3:'3- Inferred from homology',\n",
    "                                  4:'4- Protein predicted',\n",
    "                                  5:'5 -Protein uncertain'})\n",
    "countsPE"
   ]
  },
  {
   "cell_type": "code",
   "execution_count": 34,
   "metadata": {},
   "outputs": [
    {
     "data": {
      "image/png": "[encoded data removed]",
      "text/plain": [
       "<Figure size 648x432 with 1 Axes>"
      ]
     },
     "metadata": {
      "needs_background": "light"
     },
     "output_type": "display_data"
    }
   ],
   "source": [
    "ax = countsPE.plot(kind='barh', figsize=(9,6), grid=True, fontsize=14,\n",
    "                     color=['darkblue', 'pink', 'firebrick', 'darkorange', 'dodgerblue'],\n",
    "                     edgecolor='black')\n",
    "ax.invert_yaxis()"
   ]
  },
  {
   "cell_type": "markdown",
   "metadata": {},
   "source": [
    "#### 10.\n",
    "\n",
    "Dado o ficheiro `uniprot_proteome_h_influenzae.txt` com as sequências do proteoma do organismo _H. influenzae_ em formato UniProt Text, o mesmo formato do ficheiro usado nas TPs\n",
    "\n",
    "Escreva uma função com o cabeçalho\n",
    "\n",
    "`def extract_keywords_from_Uniprot_txt(filename):`\n",
    "\n",
    "que, dado o nome de um ficheiro, abra esse ficheiro, e devolva **uma lista de dicionários**, um para cada proteína, com as seguintes chaves e valores:\n",
    "\n",
    "- 'AC': o Uniprot Access Id,\n",
    "- 'keywords': uma lista com as \"keywords\" atribuídas à proteína\n",
    "\n",
    "Depois, aplicando a função ao ficheiro `uniprot_proteome_h_influenzae.txt`, responda à pergunta:\n",
    "\n",
    "**Quais são as 50 keywords mais usadas** na descrição das proteínas do organismo _H. influenzae_?\n"
   ]
  },
  {
   "cell_type": "code",
   "execution_count": 35,
   "metadata": {},
   "outputs": [
    {
     "data": {
      "text/plain": [
       "{'AC': 'P44345',\n",
       " 'keywords': ['Antibiotic resistance',\n",
       "  'Complete proteome',\n",
       "  'Reference proteome',\n",
       "  'Repressor',\n",
       "  'Ribonucleoprotein',\n",
       "  'Ribosomal protein',\n",
       "  'RNA-binding',\n",
       "  'rRNA-binding',\n",
       "  'Transcription',\n",
       "  'Transcription regulation',\n",
       "  'Transcription termination',\n",
       "  'Translation regulation']}"
      ]
     },
     "execution_count": 35,
     "metadata": {},
     "output_type": "execute_result"
    }
   ],
   "source": [
    "def extract_keywords_from_Uniprot_txt(filename):\n",
    "    with open(filename) as datafile:\n",
    "        records = datafile.read().split('//\\n')\n",
    "    records.pop(-1) # porque há um // no final do ficheiro\n",
    "    \n",
    "    prots = []\n",
    "    for prot in records:\n",
    "        idline, acline, *otherlines = prot.splitlines()\n",
    "        ac = acline.split(';')[0].split()[1]\n",
    "        \n",
    "        # as keywords estão em linhas começadas por KW\n",
    "        # já agora tiramos o princípio de cada uma dessas linhas com slice\n",
    "        \n",
    "        linesKW = [line[5:] for line in otherlines if line.startswith('KW')]\n",
    "        \n",
    "        # colectar todas as keywords\n",
    "        keywords = []\n",
    "        for line in linesKW:\n",
    "            for k in line.split(';'):\n",
    "                k = k.strip().strip('.')\n",
    "                if len(k) > 0:\n",
    "                    keywords.append(k)\n",
    "\n",
    "        \n",
    "        # acrescentar novo dicionário à lista prots\n",
    "        prots.append({'AC': ac,\n",
    "                      'keywords': keywords})\n",
    "    return prots\n",
    "        \n",
    "\n",
    "prots = extract_keywords_from_Uniprot_txt('uniprot_proteome_h_influenzae.txt')\n",
    "prots[0]"
   ]
  },
  {
   "cell_type": "code",
   "execution_count": 36,
   "metadata": {},
   "outputs": [
    {
     "name": "stdout",
     "output_type": "stream",
     "text": [
      "['Antibiotic resistance', 'Complete proteome', 'Reference proteome', 'Repressor', 'Ribonucleoprotein', 'Ribosomal protein', 'RNA-binding', 'rRNA-binding', 'Transcription', 'Transcription regulation', 'Transcription termination', 'Translation regulation', 'Complete proteome', 'DNA-directed RNA polymerase', 'Nucleotidyltransferase', 'Reference proteome', 'Transcription', 'Transferase', 'Complete proteome', 'Methyltransferase']\n"
     ]
    }
   ],
   "source": [
    "# Juntar todas as keywords numa grande lista\n",
    "kwds = []\n",
    "for p in prots:\n",
    "    kwds.extend(p['keywords'])\n",
    "    \n",
    "print(kwds[:20])"
   ]
  },
  {
   "cell_type": "code",
   "execution_count": 37,
   "metadata": {},
   "outputs": [
    {
     "data": {
      "text/plain": [
       "Complete proteome            1707\n",
       "Reference proteome           1707\n",
       "Membrane                      447\n",
       "Cell membrane                 372\n",
       "Transmembrane                 356\n",
       "Cytoplasm                     346\n",
       "Transmembrane helix           339\n",
       "Metal-binding                 291\n",
       "Nucleotide-binding            279\n",
       "Transferase                   270\n",
       "Transport                     264\n",
       "Cell inner membrane           260\n",
       "ATP-binding                   239\n",
       "Hydrolase                     204\n",
       "Signal                        136\n",
       "Magnesium                     122\n",
       "DNA-binding                   120\n",
       "3D-structure                  112\n",
       "Oxidoreductase                 93\n",
       "Iron                           86\n",
       "RNA-binding                    84\n",
       "Zinc                           82\n",
       "Transcription                  80\n",
       "Repeat                         79\n",
       "Lyase                          75\n",
       "Transcription regulation       74\n",
       "Amino-acid biosynthesis        70\n",
       "Ligase                         60\n",
       "Kinase                         58\n",
       "Isomerase                      57\n",
       "Ribonucleoprotein              55\n",
       "Ribosomal protein              54\n",
       "Periplasm                      52\n",
       "S-adenosyl-L-methionine        51\n",
       "Carbohydrate metabolism        48\n",
       "Iron-sulfur                    47\n",
       "NAD                            44\n",
       "Protease                       43\n",
       "Methyltransferase              42\n",
       "Ion transport                  42\n",
       "Cell cycle                     42\n",
       "Protein biosynthesis           42\n",
       "Cell division                  42\n",
       "rRNA-binding                   41\n",
       "Glycosyltransferase            40\n",
       "4Fe-4S                         39\n",
       "tRNA processing                39\n",
       "Cell outer membrane            37\n",
       "Direct protein sequencing      36\n",
       "Lipid metabolism               36\n",
       "dtype: int64"
      ]
     },
     "execution_count": 37,
     "metadata": {},
     "output_type": "execute_result"
    }
   ],
   "source": [
    "# transformar numa Series do Pandas\n",
    "import pandas as pd\n",
    "kwhinfluenzae = pd.Series(kwds)\n",
    "\n",
    "counts_kw = kwhinfluenzae.value_counts()\n",
    "\n",
    "counts_kw[:50]"
   ]
  },
  {
   "cell_type": "markdown",
   "metadata": {},
   "source": [
    "#### NOTA: \n",
    "\n",
    "A função value_counts resulta numa _Series_, ordenada por **ordem decrescente das contagens**\n",
    "\n",
    "Mas pode pode consultar a [documentação](https://pandas.pydata.org/pandas-docs/stable/reference/api/pandas.Series.value_counts.html) para outras opções."
   ]
  },
  {
   "cell_type": "code",
   "execution_count": 40,
   "metadata": {},
   "outputs": [
    {
     "data": {
      "image/png": "[encoded data removed]",
      "text/plain": [
       "<Figure size 432x1800 with 1 Axes>"
      ]
     },
     "metadata": {
      "needs_background": "light"
     },
     "output_type": "display_data"
    }
   ],
   "source": [
    "# obter um conjunto de cores contrastante\n",
    "from matplotlib import cm\n",
    "colors = cm.get_cmap('tab20', 20).colors\n",
    "\n",
    "# rejeitar as duas primeiras kwds, que são \"universais\", não informativas\n",
    "\n",
    "ax = counts_kw[2:50].plot(kind='barh', figsize=(6,25), grid=True, fontsize=14,\n",
    "                     color=colors, edgecolor='black')\n",
    "ax.invert_yaxis()"
   ]
  },
  {
   "cell_type": "markdown",
   "metadata": {},
   "source": [
    "#### 11.\n",
    "\n",
    "Nos ficheiros do tipo _UniProt Text_ pode ser encontrada a informação sobre o _Enzyme Commission number_, um número que classifica enzimas de acordo com a reação catalisada. Se existir, esta informação está contida em certas linhas começadas por `DE`. Uma proteína pode ter vários números EC atribuídos.\n",
    "\n",
    "Cada _EC number_ é constituído por 4 números (separados por '.') correspondentes a 4 níveis de classificação, tendo o **primeiro número**, a **classe** enzimática, o seguinte significado:\n",
    "\n",
    "```\n",
    "1- Oxidoreductases\n",
    "2- Transferases\n",
    "3- Hydrolases\n",
    "4- Lyases\n",
    "5 -Isomerases\n",
    "6 -Ligases\n",
    "7 -Translocases\n",
    "```\n",
    "\n",
    "Dado o ficheiro `uniprot_proteome_h_influenzae.txt` com as sequências do proteoma do organismo _H. influenzae_ em formato UniProt Text, (o mesmo formato do ficheiro usado nas TPs)\n",
    "\n",
    "11.1 Qual a percentagem das proteínas que são enzimas? (A resposta deve ser apresentada com um `print()`\n",
    "\n",
    "11.2 Faça programaticamente uma tabela com contagens das proteínas por cada uma das 7 classes enzimáticas e calcule a **percentagem** dos oxidoredutases e transferases juntos em relação ao total de enzimas.\n",
    "\n",
    "11.3 Elabore um gráfico de barras com contagens das proteínas por cada uma das 7 classes enzimáticas\n"
   ]
  },
  {
   "cell_type": "code",
   "execution_count": 41,
   "metadata": {},
   "outputs": [
    {
     "name": "stdout",
     "output_type": "stream",
     "text": [
      "Informação extraída para 1707 proteínas\n"
     ]
    },
    {
     "data": {
      "text/plain": [
       "[{'AC': 'P44345', 'EC': []},\n",
       " {'AC': 'P43738', 'EC': ['2', '7', '7', '6']},\n",
       " {'AC': 'P31777', 'EC': ['2', '1', '1', '266']},\n",
       " {'AC': 'P44359', 'EC': []},\n",
       " {'AC': 'P44343', 'EC': []},\n",
       " {'AC': 'P44756', 'EC': ['5', '1', '3', '1;']},\n",
       " {'AC': 'P44346', 'EC': []},\n",
       " {'AC': 'P44347', 'EC': []},\n",
       " {'AC': 'P44083', 'EC': ['2', '1', '1', '189']},\n",
       " {'AC': 'P44906', 'EC': ['2', '1', '1', '185']}]"
      ]
     },
     "execution_count": 41,
     "metadata": {},
     "output_type": "execute_result"
    }
   ],
   "source": [
    "def extract_EC_from_Uniprot_txt(filename):\n",
    "    with open(filename) as datafile:\n",
    "        records = datafile.read().split('//\\n')\n",
    "    records.pop(-1) # há um // no fim do ficheiro\n",
    "    \n",
    "    prots = []\n",
    "    for prot in records:\n",
    "        idline, acline, *otherlines = prot.splitlines()\n",
    "        ac = acline.split(';')[0].split()[1]\n",
    "        \n",
    "        # DE            EC=2.7.7.6 {ECO:0000255|HAMAP-Rule:MF_01321};\n",
    "        \n",
    "        ec = []\n",
    "        for line in otherlines:\n",
    "            if line.startswith('DE'):\n",
    "                de, ecpart, *rest = line.split()\n",
    "                if ecpart.startswith('EC='):\n",
    "                    ec = ecpart.split('=')[1]\n",
    "                    ec = ec.split('.')\n",
    "\n",
    "        # acrescentar novo dicionário à lista prots\n",
    "        prots.append({'AC': ac, 'EC': ec})\n",
    "    return prots\n",
    "        \n",
    "\n",
    "prots = extract_EC_from_Uniprot_txt('uniprot_proteome_h_influenzae.txt')\n",
    "print(f'Informação extraída para {len(prots)} proteínas')\n",
    "prots[:10]"
   ]
  },
  {
   "cell_type": "code",
   "execution_count": 42,
   "metadata": {},
   "outputs": [
    {
     "name": "stdout",
     "output_type": "stream",
     "text": [
      "O número de proteínas que são enzimas é 742 (43.47% do total de proteínas)\n"
     ]
    }
   ],
   "source": [
    "# 2.1\n",
    "\n",
    "ntot = len(prots)\n",
    "\n",
    "enzymes = [p for p in prots if len(p['EC']) > 0]\n",
    "n_enzymes = len(enzymes)\n",
    "\n",
    "percent_enzymes = 100 * n_enzymes / ntot\n",
    "\n",
    "print(f'O número de proteínas que são enzimas é {n_enzymes} ({percent_enzymes:4.2f}% do total de proteínas)')"
   ]
  },
  {
   "cell_type": "code",
   "execution_count": 43,
   "metadata": {},
   "outputs": [
    {
     "data": {
      "text/plain": [
       "{'Oxidoreductases': 88,\n",
       " 'Transferases': 259,\n",
       " 'Hydrolases': 191,\n",
       " 'Lyases': 67,\n",
       " 'Isomerases': 55,\n",
       " 'Ligases': 60,\n",
       " 'Translocases': 22}"
      ]
     },
     "execution_count": 43,
     "metadata": {},
     "output_type": "execute_result"
    }
   ],
   "source": [
    "# 2.2\n",
    "\n",
    "class_def = {'1': 'Oxidoreductases', '2': 'Transferases', '3': 'Hydrolases', \n",
    "             '4': 'Lyases', '5': 'Isomerases', '6': 'Ligases', '7': 'Translocases'}\n",
    "\n",
    "# obter uma lista com todos os códigos da classes (primeiros números)\n",
    "classes = [p['EC'][0] for p in enzymes]\n",
    "\n",
    "# contagens das classes\n",
    "\n",
    "class_counts = {}\n",
    "\n",
    "for c in class_def:\n",
    "    class_counts[class_def[c]] = classes.count(c)\n",
    "\n",
    "# ou\n",
    "# class_counts = {class_def[c]: classes.count(c) for c in class_def}\n",
    "class_counts"
   ]
  },
  {
   "cell_type": "code",
   "execution_count": 44,
   "metadata": {},
   "outputs": [
    {
     "data": {
      "text/plain": [
       "Oxidoreductases     88\n",
       "Transferases       259\n",
       "Hydrolases         191\n",
       "Lyases              67\n",
       "Isomerases          55\n",
       "Ligases             60\n",
       "Translocases        22\n",
       "dtype: int64"
      ]
     },
     "execution_count": 44,
     "metadata": {},
     "output_type": "execute_result"
    }
   ],
   "source": [
    "# 2.2 (mais apresentável)\n",
    "\n",
    "import pandas as pd\n",
    "table = pd.Series(class_counts)\n",
    "\n",
    "table"
   ]
  },
  {
   "cell_type": "code",
   "execution_count": 45,
   "metadata": {},
   "outputs": [
    {
     "name": "stdout",
     "output_type": "stream",
     "text": [
      "O número de Oxidoredutases e Transferases é 46.77% do total de enzimas\n"
     ]
    }
   ],
   "source": [
    "n_oxi_trans = table['Oxidoreductases'] + table['Transferases']\n",
    "\n",
    "percent_oxi_trans = 100 * n_oxi_trans / n_enzymes\n",
    "print(f'O número de Oxidoredutases e Transferases é {percent_oxi_trans:.2f}% do total de enzimas')"
   ]
  },
  {
   "cell_type": "code",
   "execution_count": 46,
   "metadata": {},
   "outputs": [],
   "source": [
    "# 2.3\n",
    "%matplotlib inline"
   ]
  },
  {
   "cell_type": "code",
   "execution_count": 47,
   "metadata": {},
   "outputs": [
    {
     "data": {
      "image/png": "[encoded data removed]",
      "text/plain": [
       "<Figure size 648x648 with 1 Axes>"
      ]
     },
     "metadata": {
      "needs_background": "light"
     },
     "output_type": "display_data"
    }
   ],
   "source": [
    "# obter um conjunto de cores contrastante\n",
    "from matplotlib import cm\n",
    "colors = cm.get_cmap('Set2', 9).colors\n",
    "\n",
    "ax = table.plot(kind='barh', figsize=(9,9), grid=True, fontsize=14,\n",
    "                     color=colors, edgecolor='black')\n",
    "ax.invert_yaxis()"
   ]
  },
  {
   "cell_type": "markdown",
   "metadata": {},
   "source": [
    "### Outra maneira, usando value_counts() das Series do Pandas\n",
    "\n",
    "partindo do cálculo de `classes`..."
   ]
  },
  {
   "cell_type": "code",
   "execution_count": 48,
   "metadata": {},
   "outputs": [
    {
     "data": {
      "text/plain": [
       "Oxidoreductases     88\n",
       "Transferases       259\n",
       "Hydrolases         191\n",
       "Lyases              67\n",
       "Isomerases          55\n",
       "Ligases             60\n",
       "Translocases        22\n",
       "dtype: int64"
      ]
     },
     "execution_count": 48,
     "metadata": {},
     "output_type": "execute_result"
    }
   ],
   "source": [
    "# transformar classes numa Series do Pandas\n",
    "# import pandas as pd\n",
    "all_classes = pd.Series(classes)\n",
    "\n",
    "# contagens\n",
    "table_counts = all_classes.value_counts().sort_index()\n",
    "# novos nomes, usando o dicionário class_def\n",
    "table_counts = table_counts.rename(index=class_def)\n",
    "table_counts"
   ]
  },
  {
   "cell_type": "code",
   "execution_count": 49,
   "metadata": {},
   "outputs": [
    {
     "data": {
      "image/png": "[encoded data removed]",
      "text/plain": [
       "<Figure size 648x648 with 1 Axes>"
      ]
     },
     "metadata": {
      "needs_background": "light"
     },
     "output_type": "display_data"
    }
   ],
   "source": [
    "# obter um conjunto de cores customizado e contrastante\n",
    "# from matplotlib import cm\n",
    "colors = cm.get_cmap('Pastel1', 9).colors\n",
    "\n",
    "ax = table.plot(kind='barh', figsize=(9,9), grid=True, fontsize=14,\n",
    "                     color=colors, edgecolor='black')\n",
    "ax.invert_yaxis()"
   ]
  },
  {
   "cell_type": "markdown",
   "metadata": {},
   "source": [
    "Para os interessados nos colormaps disponíveis\n",
    "\n",
    "[https://matplotlib.org/examples/color/colormaps_reference.html](https://matplotlib.org/examples/color/colormaps_reference.html)"
   ]
  }
 ],
 "metadata": {
  "kernelspec": {
   "display_name": "Python 3",
   "language": "python",
   "name": "python3"
  },
  "language_info": {
   "codemirror_mode": {
    "name": "ipython",
    "version": 3
   },
   "file_extension": ".py",
   "mimetype": "text/x-python",
   "name": "python",
   "nbconvert_exporter": "python",
   "pygments_lexer": "ipython3",
   "version": "3.7.3"
  }
 },
 "nbformat": 4,
 "nbformat_minor": 2
}
